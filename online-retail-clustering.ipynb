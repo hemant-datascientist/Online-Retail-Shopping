{
 "cells": [
  {
   "cell_type": "markdown",
   "id": "01577e86",
   "metadata": {},
   "source": [
    "----------------"
   ]
  },
  {
   "cell_type": "markdown",
   "id": "6ff87065",
   "metadata": {},
   "source": [
    "# Purchasing power parity : Online Retail Store"
   ]
  },
  {
   "cell_type": "markdown",
   "id": "3dd17d00",
   "metadata": {},
   "source": [
    "![](https://imgs.search.brave.com/uJFiqgz0-xuNmkuFKK5rB4oFgFTtd-WlzBc8mIjghJ4/rs:fit:1200:980:1/g:ce/aHR0cHM6Ly93d3cu/bWlzdGF5LmluL3Ry/YXZlbC1ibG9nL2Nv/bnRlbnQvaW1hZ2Vz/LzIwMjAvMDcvb25s/aW5lLXNob3BwaW5n/LmpwZw)"
   ]
  },
  {
   "cell_type": "markdown",
   "id": "c3d702eb",
   "metadata": {},
   "source": []
  },
  {
   "cell_type": "markdown",
   "id": "c464460e",
   "metadata": {},
   "source": [
    "--------------------"
   ]
  },
  {
   "cell_type": "markdown",
   "id": "90f55e9b",
   "metadata": {},
   "source": [
    "**Table of Contents:**                       \n",
    ">1. [Problem Statement](#1)                    \n",
    ">2. [Project Objective](#2)         \n",
    ">3. [Data Description](#3)                              \n",
    ">4. [Data Pre-processing Steps and Inspiration](#4)               \n",
    ">5. [Choosing the Algorithm for the Project](#5)                     \n",
    ">6. [Motivation and Reasons For Choosing the Algorithm](#6)                     \n",
    ">7. [Assumptions](#7)                          \n",
    ">8. [Model Evaluation and Techniques](#8)                         \n",
    ">9. [Inferences from the Same](#9)                        \n",
    ">10. [Future Possibilities of the Project](#10)                             \n",
    ">11. [Conclusion](#11)                     \n",
    ">12. [References](#12)         "
   ]
  },
  {
   "cell_type": "markdown",
   "id": "e1cb513d",
   "metadata": {},
   "source": [
    "---------------"
   ]
  },
  {
   "cell_type": "markdown",
   "id": "561c3a2e",
   "metadata": {},
   "source": [
    "<a id='1'></a>\n",
    "**Problem Statement :**           \n",
    "An online retail store is trying to understand the various customer purchase patterns for their\n",
    "firm, you are required to give enough evidence based insights to provide the same."
   ]
  },
  {
   "cell_type": "markdown",
   "id": "02e84748",
   "metadata": {},
   "source": [
    "-------"
   ]
  },
  {
   "cell_type": "markdown",
   "id": "ada15527",
   "metadata": {},
   "source": [
    "<a id='2'></a>\n",
    "**Project Objective :**                  \n",
    "The objective of this project is to analyze the customer purchase patterns of an online retail store using the online_retail.csv dataset.                              \n",
    "The analysis should provide insights into customer behavior and generate actionable insights for the store."
   ]
  },
  {
   "cell_type": "markdown",
   "id": "7be8fe55",
   "metadata": {},
   "source": [
    "-------------------"
   ]
  },
  {
   "cell_type": "markdown",
   "id": "3e1e1c57",
   "metadata": {},
   "source": [
    "<a id='3'></a>\n",
    "**Data Description :**          \n",
    "The online_retail.csv contains 387961 rows and 8 columns.\n",
    "\n",
    "|Feature Name |Description                  |\n",
    "|-------------|-----------------------------|\n",
    "|Invoice      |Invoice number               |\n",
    "|StockCode    |Product ID                   |\n",
    "|Description  |Product Description          |\n",
    "|Quantity     |Quantity of the product      |\n",
    "|InvoiceDate  |Date of the invoice          |\n",
    "|Price        |Price of the product per unit|\n",
    "|CustomerID   |Customer ID                  |\n",
    "|Country      |Region of Purchase           |"
   ]
  },
  {
   "cell_type": "markdown",
   "id": "d298b01a",
   "metadata": {},
   "source": [
    "-----------------------"
   ]
  },
  {
   "cell_type": "markdown",
   "id": "c4b7d47c",
   "metadata": {},
   "source": [
    "<a id='4'></a>\n",
    "**Data Pre-processing Steps and Inspiration :**                  \n",
    "The online_retail.csv dataset contains several missing values and outliers.                                \n",
    "Therefore, it is important to perform data pre-processing steps prior to any analysis.                                                                      \n",
    "This includes data cleaning and data wrangling techniques such as formatting, imputing missing values, removing outliers, and handling missing values.                    \n",
    "Moreover, it is important to inspire the data to uncover useful information.    "
   ]
  },
  {
   "cell_type": "markdown",
   "id": "476e5856",
   "metadata": {},
   "source": [
    "----------------"
   ]
  },
  {
   "cell_type": "markdown",
   "id": "dc1fd594",
   "metadata": {},
   "source": [
    "------------------"
   ]
  },
  {
   "cell_type": "markdown",
   "id": "6fc8ca88",
   "metadata": {},
   "source": [
    "<a id='5'></a>\n",
    "**Choosing the Algorithm for the Project :**           \n",
    "For this project, unsupervised learning algorithms such as clustering and association rule mining can be used to analyze the customer purchase patterns.                                 \n",
    "Clustering algorithms, such as K-Means, can be used to group customers based on their purchase patterns.                                                                                   \n",
    "Association rule mining algorithms, such as Apriori, can be used to uncover interesting relationships among items purchased."
   ]
  },
  {
   "cell_type": "markdown",
   "id": "82f00e38",
   "metadata": {},
   "source": [
    "-----------------"
   ]
  },
  {
   "cell_type": "markdown",
   "id": "38b307f6",
   "metadata": {},
   "source": [
    "<a id='6'></a>\n",
    "**Motivation and Reasons For Choosing the Algorithm :**                  \n",
    "The choice of algorithms is motivated by the need to uncover hidden patterns in the data that can provide insights into customer purchase behavior.           \n",
    "Clustering algorithms can be used to group customers based on their purchase patterns, while association rule mining algorithms can be used to uncover interesting relationships among items purchased."
   ]
  },
  {
   "cell_type": "markdown",
   "id": "833ad0ae",
   "metadata": {},
   "source": [
    "------------------"
   ]
  },
  {
   "cell_type": "markdown",
   "id": "8aec9c62",
   "metadata": {},
   "source": [
    "<a id='7'></a>\n",
    "**Assumptions :**                        \n",
    "> - It is assumed that the data is clean and free from any errors or inconsistencies.        \n",
    "> - Furthermore, it is assumed that all features are relevant and that the features are sufficient to provide insights into customer purchase patterns."
   ]
  },
  {
   "cell_type": "markdown",
   "id": "b809ab51",
   "metadata": {},
   "source": [
    "-------------"
   ]
  },
  {
   "cell_type": "markdown",
   "id": "91985b36",
   "metadata": {},
   "source": [
    "<a id='8'></a>\n",
    "**Model Evaluation and Techniques :**                   \n",
    "The clustering algorithms and association rule mining algorithms can be evaluated using different metrics such as accuracy, precision, recall, f1-score, and log-loss.           \n",
    "Furthermore, model selection techniques such as cross-validation and grid search can be used to optimize the parameters of the models."
   ]
  },
  {
   "cell_type": "markdown",
   "id": "234f9c78",
   "metadata": {},
   "source": [
    "-------------"
   ]
  },
  {
   "cell_type": "markdown",
   "id": "aafb8a56",
   "metadata": {},
   "source": [
    "<a id='9'></a>\n",
    "**Inferences from the Same :**                       \n",
    "The analysis of customer purchase patterns can provide useful insights into customer behavior.                     \n",
    "For example, clustering algorithms can be used to group customers based on their purchase patterns.                  \n",
    "Association rule mining algorithms can be used to uncover interesting relationships among items purchased.                        \n",
    "These insights can then be used to inform marketing and product decisions."
   ]
  },
  {
   "cell_type": "markdown",
   "id": "e009d381",
   "metadata": {},
   "source": [
    "------------------"
   ]
  },
  {
   "cell_type": "markdown",
   "id": "07e42b80",
   "metadata": {},
   "source": [
    "<a id='10'></a>\n",
    "**Future Possibilities of the Project :**                       \n",
    "The analysis of customer purchase patterns can be further extended by incorporating other datasets such as demographic data and customer feedback data.                 \n",
    "Furthermore,            \n",
    "                                                                                                                                                        predictive analytics techniques such as regression and classification can be used to predict customer behavior based on past purchase patterns.            \n"
   ]
  },
  {
   "cell_type": "markdown",
   "id": "b569c788",
   "metadata": {},
   "source": [
    "------------"
   ]
  },
  {
   "cell_type": "markdown",
   "id": "abcb4ff5",
   "metadata": {},
   "source": [
    "<a id='11'></a>\n",
    "**Conclusions :**                                     \n",
    "Our project provided evidence-based insights into customer purchase behavior that will help the online retailer make better business decisions.                                                                                                                         \n",
    "We identified the factors that affect customer purchase behavior and segmented the customers based on their behavior.                      \n",
    "We hope that our analysis will be useful for the online retailer in improving their business."
   ]
  },
  {
   "cell_type": "markdown",
   "id": "b6e7c79f",
   "metadata": {},
   "source": [
    "---------------------"
   ]
  },
  {
   "cell_type": "markdown",
   "id": "57d8806a",
   "metadata": {},
   "source": [
    "<a id='12'></a>\n",
    "**References :**                   \n",
    "\n",
    "\n",
    "Kaggle: [kaggle.com](https://www.kaggle.com/datasets/vijayuv/onlineretail)\n",
    "\n",
    "\n",
    "\n",
    "\n",
    "\n",
    "\n",
    "\n"
   ]
  },
  {
   "cell_type": "markdown",
   "id": "6fbf4c79",
   "metadata": {},
   "source": [
    "----------------------"
   ]
  },
  {
   "cell_type": "markdown",
   "id": "2f8fd234",
   "metadata": {
    "papermill": {
     "duration": 0.09315,
     "end_time": "2022-07-26T17:53:19.663847",
     "exception": false,
     "start_time": "2022-07-26T17:53:19.570697",
     "status": "completed"
    },
    "tags": []
   },
   "source": [
    "# 1. Basic Imports"
   ]
  },
  {
   "cell_type": "code",
   "execution_count": 45,
   "id": "59ec1465",
   "metadata": {
    "execution": {
     "iopub.execute_input": "2022-07-26T17:53:19.849776Z",
     "iopub.status.busy": "2022-07-26T17:53:19.848887Z",
     "iopub.status.idle": "2022-07-26T17:53:21.235861Z",
     "shell.execute_reply": "2022-07-26T17:53:21.235142Z",
     "shell.execute_reply.started": "2022-07-26T17:28:40.717407Z"
    },
    "papermill": {
     "duration": 1.485618,
     "end_time": "2022-07-26T17:53:21.236027",
     "exception": false,
     "start_time": "2022-07-26T17:53:19.750409",
     "status": "completed"
    },
    "tags": []
   },
   "outputs": [],
   "source": [
    "import numpy as np\n",
    "import pandas as pd\n",
    "import matplotlib.pyplot as plt\n",
    "import seaborn as sns\n",
    "import datetime as dt\n",
    "import sklearn\n",
    "from sklearn.preprocessing import StandardScaler\n",
    "from sklearn.cluster import KMeans\n",
    "from sklearn.metrics import silhouette_score\n",
    "from scipy.cluster.hierarchy import linkage\n",
    "from scipy.cluster.hierarchy import dendrogram\n",
    "from scipy.cluster.hierarchy import cut_tree\n",
    "import warnings\n",
    "warnings.filterwarnings(\"ignore\")"
   ]
  },
  {
   "cell_type": "markdown",
   "id": "5dfec755",
   "metadata": {
    "papermill": {
     "duration": 0.052911,
     "end_time": "2022-07-26T17:53:21.339680",
     "exception": false,
     "start_time": "2022-07-26T17:53:21.286769",
     "status": "completed"
    },
    "tags": []
   },
   "source": [
    "# 2. Loading Dataset"
   ]
  },
  {
   "cell_type": "code",
   "execution_count": 46,
   "id": "3cffa3d0",
   "metadata": {
    "execution": {
     "iopub.execute_input": "2022-07-26T17:53:21.446595Z",
     "iopub.status.busy": "2022-07-26T17:53:21.445940Z",
     "iopub.status.idle": "2022-07-26T17:53:22.746239Z",
     "shell.execute_reply": "2022-07-26T17:53:22.746838Z",
     "shell.execute_reply.started": "2022-07-26T17:28:42.666769Z"
    },
    "papermill": {
     "duration": 1.356098,
     "end_time": "2022-07-26T17:53:22.747037",
     "exception": false,
     "start_time": "2022-07-26T17:53:21.390939",
     "status": "completed"
    },
    "tags": []
   },
   "outputs": [
    {
     "name": "stdout",
     "output_type": "stream",
     "text": [
      "       InvoiceNo StockCode                          Description  Quantity  \\\n",
      "0         536365    85123A   WHITE HANGING HEART T-LIGHT HOLDER         6   \n",
      "1         536365     71053                  WHITE METAL LANTERN         6   \n",
      "2         536365    84406B       CREAM CUPID HEARTS COAT HANGER         8   \n",
      "3         536365    84029G  KNITTED UNION FLAG HOT WATER BOTTLE         6   \n",
      "4         536365    84029E       RED WOOLLY HOTTIE WHITE HEART.         6   \n",
      "...          ...       ...                                  ...       ...   \n",
      "541904    581587     22613          PACK OF 20 SPACEBOY NAPKINS        12   \n",
      "541905    581587     22899         CHILDREN'S APRON DOLLY GIRL          6   \n",
      "541906    581587     23254        CHILDRENS CUTLERY DOLLY GIRL          4   \n",
      "541907    581587     23255      CHILDRENS CUTLERY CIRCUS PARADE         4   \n",
      "541908    581587     22138        BAKING SET 9 PIECE RETROSPOT          3   \n",
      "\n",
      "            InvoiceDate  UnitPrice  CustomerID         Country  \n",
      "0        12/1/2010 8:26       2.55     17850.0  United Kingdom  \n",
      "1        12/1/2010 8:26       3.39     17850.0  United Kingdom  \n",
      "2        12/1/2010 8:26       2.75     17850.0  United Kingdom  \n",
      "3        12/1/2010 8:26       3.39     17850.0  United Kingdom  \n",
      "4        12/1/2010 8:26       3.39     17850.0  United Kingdom  \n",
      "...                 ...        ...         ...             ...  \n",
      "541904  12/9/2011 12:50       0.85     12680.0          France  \n",
      "541905  12/9/2011 12:50       2.10     12680.0          France  \n",
      "541906  12/9/2011 12:50       4.15     12680.0          France  \n",
      "541907  12/9/2011 12:50       4.15     12680.0          France  \n",
      "541908  12/9/2011 12:50       4.95     12680.0          France  \n",
      "\n",
      "[541909 rows x 8 columns]\n"
     ]
    }
   ],
   "source": [
    "df=pd.read_csv('OnlineRetail.csv', encoding= 'cp1252' , header=0)\n",
    "print(df)"
   ]
  },
  {
   "cell_type": "code",
   "execution_count": 47,
   "id": "a5a9470e",
   "metadata": {
    "execution": {
     "iopub.execute_input": "2022-07-26T17:53:22.858194Z",
     "iopub.status.busy": "2022-07-26T17:53:22.856533Z",
     "iopub.status.idle": "2022-07-26T17:53:22.860387Z",
     "shell.execute_reply": "2022-07-26T17:53:22.859921Z",
     "shell.execute_reply.started": "2022-07-26T17:28:44.126126Z"
    },
    "papermill": {
     "duration": 0.061823,
     "end_time": "2022-07-26T17:53:22.860504",
     "exception": false,
     "start_time": "2022-07-26T17:53:22.798681",
     "status": "completed"
    },
    "tags": []
   },
   "outputs": [
    {
     "data": {
      "text/plain": [
       "(541909, 8)"
      ]
     },
     "execution_count": 47,
     "metadata": {},
     "output_type": "execute_result"
    }
   ],
   "source": [
    "df.shape"
   ]
  },
  {
   "cell_type": "code",
   "execution_count": 48,
   "id": "a940fcc8",
   "metadata": {
    "execution": {
     "iopub.execute_input": "2022-07-26T17:53:22.968839Z",
     "iopub.status.busy": "2022-07-26T17:53:22.967956Z",
     "iopub.status.idle": "2022-07-26T17:53:23.245244Z",
     "shell.execute_reply": "2022-07-26T17:53:23.245969Z",
     "shell.execute_reply.started": "2022-07-26T17:28:44.137839Z"
    },
    "papermill": {
     "duration": 0.335191,
     "end_time": "2022-07-26T17:53:23.246188",
     "exception": false,
     "start_time": "2022-07-26T17:53:22.910997",
     "status": "completed"
    },
    "tags": []
   },
   "outputs": [
    {
     "name": "stdout",
     "output_type": "stream",
     "text": [
      "<class 'pandas.core.frame.DataFrame'>\n",
      "RangeIndex: 541909 entries, 0 to 541908\n",
      "Data columns (total 8 columns):\n",
      " #   Column       Non-Null Count   Dtype  \n",
      "---  ------       --------------   -----  \n",
      " 0   InvoiceNo    541909 non-null  object \n",
      " 1   StockCode    541909 non-null  object \n",
      " 2   Description  540455 non-null  object \n",
      " 3   Quantity     541909 non-null  int64  \n",
      " 4   InvoiceDate  541909 non-null  object \n",
      " 5   UnitPrice    541909 non-null  float64\n",
      " 6   CustomerID   406829 non-null  float64\n",
      " 7   Country      541909 non-null  object \n",
      "dtypes: float64(2), int64(1), object(5)\n",
      "memory usage: 33.1+ MB\n"
     ]
    }
   ],
   "source": [
    "df.info()"
   ]
  },
  {
   "cell_type": "code",
   "execution_count": 49,
   "id": "dcc94a82",
   "metadata": {
    "execution": {
     "iopub.execute_input": "2022-07-26T17:53:23.359067Z",
     "iopub.status.busy": "2022-07-26T17:53:23.357962Z",
     "iopub.status.idle": "2022-07-26T17:53:23.425452Z",
     "shell.execute_reply": "2022-07-26T17:53:23.425894Z",
     "shell.execute_reply.started": "2022-07-26T17:28:44.468006Z"
    },
    "papermill": {
     "duration": 0.13002,
     "end_time": "2022-07-26T17:53:23.426044",
     "exception": false,
     "start_time": "2022-07-26T17:53:23.296024",
     "status": "completed"
    },
    "tags": []
   },
   "outputs": [
    {
     "data": {
      "text/html": [
       "<div>\n",
       "<style scoped>\n",
       "    .dataframe tbody tr th:only-of-type {\n",
       "        vertical-align: middle;\n",
       "    }\n",
       "\n",
       "    .dataframe tbody tr th {\n",
       "        vertical-align: top;\n",
       "    }\n",
       "\n",
       "    .dataframe thead th {\n",
       "        text-align: right;\n",
       "    }\n",
       "</style>\n",
       "<table border=\"1\" class=\"dataframe\">\n",
       "  <thead>\n",
       "    <tr style=\"text-align: right;\">\n",
       "      <th></th>\n",
       "      <th>Quantity</th>\n",
       "      <th>UnitPrice</th>\n",
       "      <th>CustomerID</th>\n",
       "    </tr>\n",
       "  </thead>\n",
       "  <tbody>\n",
       "    <tr>\n",
       "      <th>count</th>\n",
       "      <td>541909.000000</td>\n",
       "      <td>541909.000000</td>\n",
       "      <td>406829.000000</td>\n",
       "    </tr>\n",
       "    <tr>\n",
       "      <th>mean</th>\n",
       "      <td>9.552250</td>\n",
       "      <td>4.611114</td>\n",
       "      <td>15287.690570</td>\n",
       "    </tr>\n",
       "    <tr>\n",
       "      <th>std</th>\n",
       "      <td>218.081158</td>\n",
       "      <td>96.759853</td>\n",
       "      <td>1713.600303</td>\n",
       "    </tr>\n",
       "    <tr>\n",
       "      <th>min</th>\n",
       "      <td>-80995.000000</td>\n",
       "      <td>-11062.060000</td>\n",
       "      <td>12346.000000</td>\n",
       "    </tr>\n",
       "    <tr>\n",
       "      <th>25%</th>\n",
       "      <td>1.000000</td>\n",
       "      <td>1.250000</td>\n",
       "      <td>13953.000000</td>\n",
       "    </tr>\n",
       "    <tr>\n",
       "      <th>50%</th>\n",
       "      <td>3.000000</td>\n",
       "      <td>2.080000</td>\n",
       "      <td>15152.000000</td>\n",
       "    </tr>\n",
       "    <tr>\n",
       "      <th>75%</th>\n",
       "      <td>10.000000</td>\n",
       "      <td>4.130000</td>\n",
       "      <td>16791.000000</td>\n",
       "    </tr>\n",
       "    <tr>\n",
       "      <th>max</th>\n",
       "      <td>80995.000000</td>\n",
       "      <td>38970.000000</td>\n",
       "      <td>18287.000000</td>\n",
       "    </tr>\n",
       "  </tbody>\n",
       "</table>\n",
       "</div>"
      ],
      "text/plain": [
       "            Quantity      UnitPrice     CustomerID\n",
       "count  541909.000000  541909.000000  406829.000000\n",
       "mean        9.552250       4.611114   15287.690570\n",
       "std       218.081158      96.759853    1713.600303\n",
       "min    -80995.000000  -11062.060000   12346.000000\n",
       "25%         1.000000       1.250000   13953.000000\n",
       "50%         3.000000       2.080000   15152.000000\n",
       "75%        10.000000       4.130000   16791.000000\n",
       "max     80995.000000   38970.000000   18287.000000"
      ]
     },
     "execution_count": 49,
     "metadata": {},
     "output_type": "execute_result"
    }
   ],
   "source": [
    "df.describe()\n"
   ]
  },
  {
   "cell_type": "code",
   "execution_count": 51,
   "id": "bf1f6ed1",
   "metadata": {
    "execution": {
     "iopub.execute_input": "2022-07-26T17:53:23.532104Z",
     "iopub.status.busy": "2022-07-26T17:53:23.531272Z",
     "iopub.status.idle": "2022-07-26T17:53:23.796761Z",
     "shell.execute_reply": "2022-07-26T17:53:23.797598Z",
     "shell.execute_reply.started": "2022-07-26T17:28:44.575161Z"
    },
    "papermill": {
     "duration": 0.320427,
     "end_time": "2022-07-26T17:53:23.797856",
     "exception": false,
     "start_time": "2022-07-26T17:53:23.477429",
     "status": "completed"
    },
    "tags": []
   },
   "outputs": [
    {
     "data": {
      "text/plain": [
       "InvoiceNo       0.00\n",
       "StockCode       0.00\n",
       "Description     0.27\n",
       "Quantity        0.00\n",
       "InvoiceDate     0.00\n",
       "UnitPrice       0.00\n",
       "CustomerID     24.93\n",
       "Country         0.00\n",
       "dtype: float64"
      ]
     },
     "execution_count": 51,
     "metadata": {},
     "output_type": "execute_result"
    }
   ],
   "source": [
    "df_null = round(100*(df.isnull().sum())/len(df), 2)\n",
    "df_null"
   ]
  },
  {
   "cell_type": "code",
   "execution_count": 52,
   "id": "d916c535",
   "metadata": {
    "execution": {
     "iopub.execute_input": "2022-07-26T17:53:23.907831Z",
     "iopub.status.busy": "2022-07-26T17:53:23.906899Z",
     "iopub.status.idle": "2022-07-26T17:53:24.211942Z",
     "shell.execute_reply": "2022-07-26T17:53:24.212548Z",
     "shell.execute_reply.started": "2022-07-26T17:28:44.881756Z"
    },
    "papermill": {
     "duration": 0.360461,
     "end_time": "2022-07-26T17:53:24.212707",
     "exception": false,
     "start_time": "2022-07-26T17:53:23.852246",
     "status": "completed"
    },
    "tags": []
   },
   "outputs": [
    {
     "data": {
      "text/plain": [
       "(406829, 8)"
      ]
     },
     "execution_count": 52,
     "metadata": {},
     "output_type": "execute_result"
    }
   ],
   "source": [
    "# Droping rows having missing values\n",
    "df = df.dropna()\n",
    "df.shape"
   ]
  },
  {
   "cell_type": "code",
   "execution_count": 53,
   "id": "be399a75",
   "metadata": {
    "execution": {
     "iopub.execute_input": "2022-07-26T17:53:24.316765Z",
     "iopub.status.busy": "2022-07-26T17:53:24.315908Z",
     "iopub.status.idle": "2022-07-26T17:53:24.597031Z",
     "shell.execute_reply": "2022-07-26T17:53:24.597695Z",
     "shell.execute_reply.started": "2022-07-26T17:28:45.235007Z"
    },
    "papermill": {
     "duration": 0.335537,
     "end_time": "2022-07-26T17:53:24.597890",
     "exception": false,
     "start_time": "2022-07-26T17:53:24.262353",
     "status": "completed"
    },
    "tags": []
   },
   "outputs": [],
   "source": [
    "# Changing the datatype of Customer Id as per Business understanding\n",
    "\n",
    "df['CustomerID'] = df['CustomerID'].astype(str)"
   ]
  },
  {
   "cell_type": "markdown",
   "id": "8a44e530",
   "metadata": {
    "papermill": {
     "duration": 0.051021,
     "end_time": "2022-07-26T17:53:24.701014",
     "exception": false,
     "start_time": "2022-07-26T17:53:24.649993",
     "status": "completed"
    },
    "tags": []
   },
   "source": [
    "# 3. Basic Analysis"
   ]
  },
  {
   "cell_type": "code",
   "execution_count": 54,
   "id": "768b4701",
   "metadata": {
    "execution": {
     "iopub.execute_input": "2022-07-26T17:53:24.844214Z",
     "iopub.status.busy": "2022-07-26T17:53:24.843259Z",
     "iopub.status.idle": "2022-07-26T17:53:25.719505Z",
     "shell.execute_reply": "2022-07-26T17:53:25.719954Z",
     "shell.execute_reply.started": "2022-07-26T17:28:45.562660Z"
    },
    "papermill": {
     "duration": 0.970354,
     "end_time": "2022-07-26T17:53:25.720111",
     "exception": false,
     "start_time": "2022-07-26T17:53:24.749757",
     "status": "completed"
    },
    "tags": []
   },
   "outputs": [
    {
     "data": {
      "image/png": "[encoded data removed]",
      "text/plain": [
       "<Figure size 1200x500 with 1 Axes>"
      ]
     },
     "metadata": {},
     "output_type": "display_data"
    }
   ],
   "source": [
    "plt.figure(figsize=(12,5))\n",
    "sns.countplot(df['Country'],palette= 'Set3')\n",
    "plt.xticks(rotation=40,ha='right')\n",
    "plt.title(\"Country Distribution\")\n",
    "plt.xlabel('Country')\n",
    "plt.ylabel('Count');"
   ]
  },
  {
   "cell_type": "code",
   "execution_count": 55,
   "id": "2d1964bf",
   "metadata": {
    "execution": {
     "iopub.execute_input": "2022-07-26T17:53:26.055499Z",
     "iopub.status.busy": "2022-07-26T17:53:26.054716Z",
     "iopub.status.idle": "2022-07-26T17:53:28.130268Z",
     "shell.execute_reply": "2022-07-26T17:53:28.129699Z",
     "shell.execute_reply.started": "2022-07-26T17:28:46.602909Z"
    },
    "papermill": {
     "duration": 2.152332,
     "end_time": "2022-07-26T17:53:28.130433",
     "exception": false,
     "start_time": "2022-07-26T17:53:25.978101",
     "status": "completed"
    },
    "tags": []
   },
   "outputs": [
    {
     "data": {
      "image/png": "[encoded data removed]",
      "text/plain": [
       "<Figure size 800x500 with 1 Axes>"
      ]
     },
     "metadata": {},
     "output_type": "display_data"
    }
   ],
   "source": [
    "plt.figure(figsize=(8,5))\n",
    "df['InvoiceDate'] = pd.to_datetime(df['InvoiceDate'], errors='coerce')\n",
    "sns.countplot(df['InvoiceDate'].dt.year,palette= 'Set1')\n",
    "plt.xticks(rotation=40,ha='right')\n",
    "plt.title(\"Year Distribution\")\n",
    "plt.xlabel('Year')\n",
    "plt.ylabel('Count');"
   ]
  },
  {
   "cell_type": "code",
   "execution_count": 12,
   "id": "c85db03e",
   "metadata": {
    "execution": {
     "iopub.execute_input": "2022-07-26T17:53:28.358614Z",
     "iopub.status.busy": "2022-07-26T17:53:28.357608Z",
     "iopub.status.idle": "2022-07-26T17:53:29.132102Z",
     "shell.execute_reply": "2022-07-26T17:53:29.132587Z",
     "shell.execute_reply.started": "2022-07-26T17:28:49.021365Z"
    },
    "papermill": {
     "duration": 0.845914,
     "end_time": "2022-07-26T17:53:29.132764",
     "exception": false,
     "start_time": "2022-07-26T17:53:28.286850",
     "status": "completed"
    },
    "tags": []
   },
   "outputs": [
    {
     "data": {
      "text/plain": [
       "Text(0.5, 0, 'Month')"
      ]
     },
     "execution_count": 12,
     "metadata": {},
     "output_type": "execute_result"
    },
    {
     "data": {
      "image/png": "[encoded data removed]",
      "text/plain": [
       "<Figure size 800x500 with 1 Axes>"
      ]
     },
     "metadata": {},
     "output_type": "display_data"
    }
   ],
   "source": [
    "plt.figure(figsize=(8,5))\n",
    "plt.xticks(rotation=40,ha='right')\n",
    "sns.countplot(df['InvoiceDate'].dt.month_name(),palette= 'Spectral')\n",
    "plt.title(\"Month Distribution\")\n",
    "plt.ylabel('Count')\n",
    "plt.xlabel('Month')"
   ]
  },
  {
   "cell_type": "markdown",
   "id": "8b5f6348",
   "metadata": {
    "papermill": {
     "duration": 0.051827,
     "end_time": "2022-07-26T17:53:29.242574",
     "exception": false,
     "start_time": "2022-07-26T17:53:29.190747",
     "status": "completed"
    },
    "tags": []
   },
   "source": [
    " highest amount of sales in November"
   ]
  },
  {
   "cell_type": "code",
   "execution_count": 56,
   "id": "f45c5fce",
   "metadata": {
    "execution": {
     "iopub.execute_input": "2022-07-26T17:53:29.355069Z",
     "iopub.status.busy": "2022-07-26T17:53:29.354313Z",
     "iopub.status.idle": "2022-07-26T17:53:30.117070Z",
     "shell.execute_reply": "2022-07-26T17:53:30.116602Z",
     "shell.execute_reply.started": "2022-07-26T17:28:49.938545Z"
    },
    "papermill": {
     "duration": 0.822612,
     "end_time": "2022-07-26T17:53:30.117196",
     "exception": false,
     "start_time": "2022-07-26T17:53:29.294584",
     "status": "completed"
    },
    "tags": []
   },
   "outputs": [
    {
     "data": {
      "text/plain": [
       "Text(0, 0.5, 'Count')"
      ]
     },
     "execution_count": 56,
     "metadata": {},
     "output_type": "execute_result"
    },
    {
     "data": {
      "image/png": "[encoded data removed]",
      "text/plain": [
       "<Figure size 800x500 with 1 Axes>"
      ]
     },
     "metadata": {},
     "output_type": "display_data"
    }
   ],
   "source": [
    "plt.figure(figsize=(8,5))\n",
    "sns.countplot(df['InvoiceDate'].dt.day_name(),palette= 'Set1')\n",
    "plt.xticks(rotation=40)\n",
    "plt.title(\"Week Distribution\")\n",
    "plt.xlabel('Week')\n",
    "plt.ylabel('Count')"
   ]
  },
  {
   "cell_type": "markdown",
   "id": "8b18ffde",
   "metadata": {
    "papermill": {
     "duration": 0.062361,
     "end_time": "2022-07-26T17:53:30.347923",
     "exception": false,
     "start_time": "2022-07-26T17:53:30.285562",
     "status": "completed"
    },
    "tags": []
   },
   "source": [
    "# 4. Attributes (Amount, Frequency and Recency)"
   ]
  },
  {
   "cell_type": "code",
   "execution_count": 57,
   "id": "e4952cdf",
   "metadata": {
    "execution": {
     "iopub.execute_input": "2022-07-26T17:53:30.466527Z",
     "iopub.status.busy": "2022-07-26T17:53:30.465701Z",
     "iopub.status.idle": "2022-07-26T17:53:30.518266Z",
     "shell.execute_reply": "2022-07-26T17:53:30.518805Z",
     "shell.execute_reply.started": "2022-07-26T17:28:50.815619Z"
    },
    "papermill": {
     "duration": 0.115864,
     "end_time": "2022-07-26T17:53:30.518983",
     "exception": false,
     "start_time": "2022-07-26T17:53:30.403119",
     "status": "completed"
    },
    "tags": []
   },
   "outputs": [
    {
     "data": {
      "text/html": [
       "<div>\n",
       "<style scoped>\n",
       "    .dataframe tbody tr th:only-of-type {\n",
       "        vertical-align: middle;\n",
       "    }\n",
       "\n",
       "    .dataframe tbody tr th {\n",
       "        vertical-align: top;\n",
       "    }\n",
       "\n",
       "    .dataframe thead th {\n",
       "        text-align: right;\n",
       "    }\n",
       "</style>\n",
       "<table border=\"1\" class=\"dataframe\">\n",
       "  <thead>\n",
       "    <tr style=\"text-align: right;\">\n",
       "      <th></th>\n",
       "      <th>CustomerID</th>\n",
       "      <th>Amount</th>\n",
       "    </tr>\n",
       "  </thead>\n",
       "  <tbody>\n",
       "    <tr>\n",
       "      <th>0</th>\n",
       "      <td>12346.0</td>\n",
       "      <td>0.00</td>\n",
       "    </tr>\n",
       "    <tr>\n",
       "      <th>1</th>\n",
       "      <td>12347.0</td>\n",
       "      <td>4310.00</td>\n",
       "    </tr>\n",
       "    <tr>\n",
       "      <th>2</th>\n",
       "      <td>12348.0</td>\n",
       "      <td>1797.24</td>\n",
       "    </tr>\n",
       "    <tr>\n",
       "      <th>3</th>\n",
       "      <td>12349.0</td>\n",
       "      <td>1757.55</td>\n",
       "    </tr>\n",
       "    <tr>\n",
       "      <th>4</th>\n",
       "      <td>12350.0</td>\n",
       "      <td>334.40</td>\n",
       "    </tr>\n",
       "  </tbody>\n",
       "</table>\n",
       "</div>"
      ],
      "text/plain": [
       "  CustomerID   Amount\n",
       "0    12346.0     0.00\n",
       "1    12347.0  4310.00\n",
       "2    12348.0  1797.24\n",
       "3    12349.0  1757.55\n",
       "4    12350.0   334.40"
      ]
     },
     "execution_count": 57,
     "metadata": {},
     "output_type": "execute_result"
    }
   ],
   "source": [
    "# New Attribute : Amount:\n",
    "\n",
    "df['Amount'] = df['Quantity']*df['UnitPrice']\n",
    "rfm_m = df.groupby('CustomerID')['Amount'].sum()\n",
    "rfm_m = rfm_m.reset_index()\n",
    "rfm_m.head()"
   ]
  },
  {
   "cell_type": "code",
   "execution_count": 58,
   "id": "51369b8f",
   "metadata": {
    "execution": {
     "iopub.execute_input": "2022-07-26T17:53:30.706666Z",
     "iopub.status.busy": "2022-07-26T17:53:30.705766Z",
     "iopub.status.idle": "2022-07-26T17:53:30.815835Z",
     "shell.execute_reply": "2022-07-26T17:53:30.816520Z",
     "shell.execute_reply.started": "2022-07-26T17:28:50.884067Z"
    },
    "papermill": {
     "duration": 0.231854,
     "end_time": "2022-07-26T17:53:30.817099",
     "exception": false,
     "start_time": "2022-07-26T17:53:30.585245",
     "status": "completed"
    },
    "tags": []
   },
   "outputs": [
    {
     "data": {
      "text/html": [
       "<div>\n",
       "<style scoped>\n",
       "    .dataframe tbody tr th:only-of-type {\n",
       "        vertical-align: middle;\n",
       "    }\n",
       "\n",
       "    .dataframe tbody tr th {\n",
       "        vertical-align: top;\n",
       "    }\n",
       "\n",
       "    .dataframe thead th {\n",
       "        text-align: right;\n",
       "    }\n",
       "</style>\n",
       "<table border=\"1\" class=\"dataframe\">\n",
       "  <thead>\n",
       "    <tr style=\"text-align: right;\">\n",
       "      <th></th>\n",
       "      <th>CustomerID</th>\n",
       "      <th>Frequency</th>\n",
       "    </tr>\n",
       "  </thead>\n",
       "  <tbody>\n",
       "    <tr>\n",
       "      <th>0</th>\n",
       "      <td>12346.0</td>\n",
       "      <td>2</td>\n",
       "    </tr>\n",
       "    <tr>\n",
       "      <th>1</th>\n",
       "      <td>12347.0</td>\n",
       "      <td>182</td>\n",
       "    </tr>\n",
       "    <tr>\n",
       "      <th>2</th>\n",
       "      <td>12348.0</td>\n",
       "      <td>31</td>\n",
       "    </tr>\n",
       "    <tr>\n",
       "      <th>3</th>\n",
       "      <td>12349.0</td>\n",
       "      <td>73</td>\n",
       "    </tr>\n",
       "    <tr>\n",
       "      <th>4</th>\n",
       "      <td>12350.0</td>\n",
       "      <td>17</td>\n",
       "    </tr>\n",
       "  </tbody>\n",
       "</table>\n",
       "</div>"
      ],
      "text/plain": [
       "  CustomerID  Frequency\n",
       "0    12346.0          2\n",
       "1    12347.0        182\n",
       "2    12348.0         31\n",
       "3    12349.0         73\n",
       "4    12350.0         17"
      ]
     },
     "execution_count": 58,
     "metadata": {},
     "output_type": "execute_result"
    }
   ],
   "source": [
    "# New Attribute : Frequency\n",
    "\n",
    "rfm_f = df.groupby('CustomerID')['InvoiceNo'].count()\n",
    "rfm_f = rfm_f.reset_index()\n",
    "rfm_f.columns = ['CustomerID', 'Frequency']\n",
    "rfm_f.head()"
   ]
  },
  {
   "cell_type": "code",
   "execution_count": 59,
   "id": "7499f203",
   "metadata": {
    "execution": {
     "iopub.execute_input": "2022-07-26T17:53:31.024102Z",
     "iopub.status.busy": "2022-07-26T17:53:31.023216Z",
     "iopub.status.idle": "2022-07-26T17:53:31.044050Z",
     "shell.execute_reply": "2022-07-26T17:53:31.044821Z",
     "shell.execute_reply.started": "2022-07-26T17:28:50.992964Z"
    },
    "papermill": {
     "duration": 0.123993,
     "end_time": "2022-07-26T17:53:31.045039",
     "exception": false,
     "start_time": "2022-07-26T17:53:30.921046",
     "status": "completed"
    },
    "tags": []
   },
   "outputs": [
    {
     "data": {
      "text/html": [
       "<div>\n",
       "<style scoped>\n",
       "    .dataframe tbody tr th:only-of-type {\n",
       "        vertical-align: middle;\n",
       "    }\n",
       "\n",
       "    .dataframe tbody tr th {\n",
       "        vertical-align: top;\n",
       "    }\n",
       "\n",
       "    .dataframe thead th {\n",
       "        text-align: right;\n",
       "    }\n",
       "</style>\n",
       "<table border=\"1\" class=\"dataframe\">\n",
       "  <thead>\n",
       "    <tr style=\"text-align: right;\">\n",
       "      <th></th>\n",
       "      <th>CustomerID</th>\n",
       "      <th>Amount</th>\n",
       "      <th>Frequency</th>\n",
       "    </tr>\n",
       "  </thead>\n",
       "  <tbody>\n",
       "    <tr>\n",
       "      <th>0</th>\n",
       "      <td>12346.0</td>\n",
       "      <td>0.00</td>\n",
       "      <td>2</td>\n",
       "    </tr>\n",
       "    <tr>\n",
       "      <th>1</th>\n",
       "      <td>12347.0</td>\n",
       "      <td>4310.00</td>\n",
       "      <td>182</td>\n",
       "    </tr>\n",
       "    <tr>\n",
       "      <th>2</th>\n",
       "      <td>12348.0</td>\n",
       "      <td>1797.24</td>\n",
       "      <td>31</td>\n",
       "    </tr>\n",
       "    <tr>\n",
       "      <th>3</th>\n",
       "      <td>12349.0</td>\n",
       "      <td>1757.55</td>\n",
       "      <td>73</td>\n",
       "    </tr>\n",
       "    <tr>\n",
       "      <th>4</th>\n",
       "      <td>12350.0</td>\n",
       "      <td>334.40</td>\n",
       "      <td>17</td>\n",
       "    </tr>\n",
       "  </tbody>\n",
       "</table>\n",
       "</div>"
      ],
      "text/plain": [
       "  CustomerID   Amount  Frequency\n",
       "0    12346.0     0.00          2\n",
       "1    12347.0  4310.00        182\n",
       "2    12348.0  1797.24         31\n",
       "3    12349.0  1757.55         73\n",
       "4    12350.0   334.40         17"
      ]
     },
     "execution_count": 59,
     "metadata": {},
     "output_type": "execute_result"
    }
   ],
   "source": [
    "# Merging the two dfs\n",
    "\n",
    "rfm = pd.merge(rfm_m, rfm_f, on='CustomerID', how='inner')\n",
    "rfm.head()\n"
   ]
  },
  {
   "cell_type": "code",
   "execution_count": 60,
   "id": "13eba652",
   "metadata": {
    "execution": {
     "iopub.execute_input": "2022-07-26T17:53:31.320779Z",
     "iopub.status.busy": "2022-07-26T17:53:31.319909Z",
     "iopub.status.idle": "2022-07-26T17:53:31.332689Z",
     "shell.execute_reply": "2022-07-26T17:53:31.332123Z",
     "shell.execute_reply.started": "2022-07-26T17:28:51.019662Z"
    },
    "papermill": {
     "duration": 0.197682,
     "end_time": "2022-07-26T17:53:31.332818",
     "exception": false,
     "start_time": "2022-07-26T17:53:31.135136",
     "status": "completed"
    },
    "tags": []
   },
   "outputs": [],
   "source": [
    "# New Attribute : Recency\n",
    "\n",
    "# Convert to datetime to proper datatype\n",
    "\n",
    "df['InvoiceDate'] = pd.to_datetime(df['InvoiceDate'],format='%d-%m-%Y %H:%M')"
   ]
  },
  {
   "cell_type": "code",
   "execution_count": 61,
   "id": "fab93dd1",
   "metadata": {
    "execution": {
     "iopub.execute_input": "2022-07-26T17:53:31.522796Z",
     "iopub.status.busy": "2022-07-26T17:53:31.475988Z",
     "iopub.status.idle": "2022-07-26T17:53:32.366970Z",
     "shell.execute_reply": "2022-07-26T17:53:32.367711Z",
     "shell.execute_reply.started": "2022-07-26T17:28:51.186930Z"
    },
    "papermill": {
     "duration": 0.981163,
     "end_time": "2022-07-26T17:53:32.367872",
     "exception": false,
     "start_time": "2022-07-26T17:53:31.386709",
     "status": "completed"
    },
    "tags": []
   },
   "outputs": [
    {
     "data": {
      "text/plain": [
       "Timestamp('2011-12-09 12:50:00')"
      ]
     },
     "execution_count": 61,
     "metadata": {},
     "output_type": "execute_result"
    }
   ],
   "source": [
    "# Compute the maximum date to know the last transaction date\n",
    "\n",
    "max_date = max(df['InvoiceDate'])\n",
    "max_date"
   ]
  },
  {
   "cell_type": "code",
   "execution_count": 62,
   "id": "58652988",
   "metadata": {
    "execution": {
     "iopub.execute_input": "2022-07-26T17:53:32.496833Z",
     "iopub.status.busy": "2022-07-26T17:53:32.495691Z",
     "iopub.status.idle": "2022-07-26T17:53:32.512770Z",
     "shell.execute_reply": "2022-07-26T17:53:32.513242Z",
     "shell.execute_reply.started": "2022-07-26T17:28:52.250491Z"
    },
    "papermill": {
     "duration": 0.084492,
     "end_time": "2022-07-26T17:53:32.513426",
     "exception": false,
     "start_time": "2022-07-26T17:53:32.428934",
     "status": "completed"
    },
    "tags": []
   },
   "outputs": [
    {
     "data": {
      "text/html": [
       "<div>\n",
       "<style scoped>\n",
       "    .dataframe tbody tr th:only-of-type {\n",
       "        vertical-align: middle;\n",
       "    }\n",
       "\n",
       "    .dataframe tbody tr th {\n",
       "        vertical-align: top;\n",
       "    }\n",
       "\n",
       "    .dataframe thead th {\n",
       "        text-align: right;\n",
       "    }\n",
       "</style>\n",
       "<table border=\"1\" class=\"dataframe\">\n",
       "  <thead>\n",
       "    <tr style=\"text-align: right;\">\n",
       "      <th></th>\n",
       "      <th>InvoiceNo</th>\n",
       "      <th>StockCode</th>\n",
       "      <th>Description</th>\n",
       "      <th>Quantity</th>\n",
       "      <th>InvoiceDate</th>\n",
       "      <th>UnitPrice</th>\n",
       "      <th>CustomerID</th>\n",
       "      <th>Country</th>\n",
       "      <th>Amount</th>\n",
       "      <th>Diff</th>\n",
       "    </tr>\n",
       "  </thead>\n",
       "  <tbody>\n",
       "    <tr>\n",
       "      <th>0</th>\n",
       "      <td>536365</td>\n",
       "      <td>85123A</td>\n",
       "      <td>WHITE HANGING HEART T-LIGHT HOLDER</td>\n",
       "      <td>6</td>\n",
       "      <td>2010-12-01 08:26:00</td>\n",
       "      <td>2.55</td>\n",
       "      <td>17850.0</td>\n",
       "      <td>United Kingdom</td>\n",
       "      <td>15.30</td>\n",
       "      <td>373 days 04:24:00</td>\n",
       "    </tr>\n",
       "    <tr>\n",
       "      <th>1</th>\n",
       "      <td>536365</td>\n",
       "      <td>71053</td>\n",
       "      <td>WHITE METAL LANTERN</td>\n",
       "      <td>6</td>\n",
       "      <td>2010-12-01 08:26:00</td>\n",
       "      <td>3.39</td>\n",
       "      <td>17850.0</td>\n",
       "      <td>United Kingdom</td>\n",
       "      <td>20.34</td>\n",
       "      <td>373 days 04:24:00</td>\n",
       "    </tr>\n",
       "    <tr>\n",
       "      <th>2</th>\n",
       "      <td>536365</td>\n",
       "      <td>84406B</td>\n",
       "      <td>CREAM CUPID HEARTS COAT HANGER</td>\n",
       "      <td>8</td>\n",
       "      <td>2010-12-01 08:26:00</td>\n",
       "      <td>2.75</td>\n",
       "      <td>17850.0</td>\n",
       "      <td>United Kingdom</td>\n",
       "      <td>22.00</td>\n",
       "      <td>373 days 04:24:00</td>\n",
       "    </tr>\n",
       "    <tr>\n",
       "      <th>3</th>\n",
       "      <td>536365</td>\n",
       "      <td>84029G</td>\n",
       "      <td>KNITTED UNION FLAG HOT WATER BOTTLE</td>\n",
       "      <td>6</td>\n",
       "      <td>2010-12-01 08:26:00</td>\n",
       "      <td>3.39</td>\n",
       "      <td>17850.0</td>\n",
       "      <td>United Kingdom</td>\n",
       "      <td>20.34</td>\n",
       "      <td>373 days 04:24:00</td>\n",
       "    </tr>\n",
       "    <tr>\n",
       "      <th>4</th>\n",
       "      <td>536365</td>\n",
       "      <td>84029E</td>\n",
       "      <td>RED WOOLLY HOTTIE WHITE HEART.</td>\n",
       "      <td>6</td>\n",
       "      <td>2010-12-01 08:26:00</td>\n",
       "      <td>3.39</td>\n",
       "      <td>17850.0</td>\n",
       "      <td>United Kingdom</td>\n",
       "      <td>20.34</td>\n",
       "      <td>373 days 04:24:00</td>\n",
       "    </tr>\n",
       "  </tbody>\n",
       "</table>\n",
       "</div>"
      ],
      "text/plain": [
       "  InvoiceNo StockCode                          Description  Quantity  \\\n",
       "0    536365    85123A   WHITE HANGING HEART T-LIGHT HOLDER         6   \n",
       "1    536365     71053                  WHITE METAL LANTERN         6   \n",
       "2    536365    84406B       CREAM CUPID HEARTS COAT HANGER         8   \n",
       "3    536365    84029G  KNITTED UNION FLAG HOT WATER BOTTLE         6   \n",
       "4    536365    84029E       RED WOOLLY HOTTIE WHITE HEART.         6   \n",
       "\n",
       "          InvoiceDate  UnitPrice CustomerID         Country  Amount  \\\n",
       "0 2010-12-01 08:26:00       2.55    17850.0  United Kingdom   15.30   \n",
       "1 2010-12-01 08:26:00       3.39    17850.0  United Kingdom   20.34   \n",
       "2 2010-12-01 08:26:00       2.75    17850.0  United Kingdom   22.00   \n",
       "3 2010-12-01 08:26:00       3.39    17850.0  United Kingdom   20.34   \n",
       "4 2010-12-01 08:26:00       3.39    17850.0  United Kingdom   20.34   \n",
       "\n",
       "               Diff  \n",
       "0 373 days 04:24:00  \n",
       "1 373 days 04:24:00  \n",
       "2 373 days 04:24:00  \n",
       "3 373 days 04:24:00  \n",
       "4 373 days 04:24:00  "
      ]
     },
     "execution_count": 62,
     "metadata": {},
     "output_type": "execute_result"
    }
   ],
   "source": [
    "# Compute the difference between max date and transaction date\n",
    "\n",
    "df['Diff'] = max_date - df['InvoiceDate']\n",
    "df.head()\n"
   ]
  },
  {
   "cell_type": "code",
   "execution_count": 63,
   "id": "09c11cf6",
   "metadata": {
    "execution": {
     "iopub.execute_input": "2022-07-26T17:53:32.648842Z",
     "iopub.status.busy": "2022-07-26T17:53:32.647838Z",
     "iopub.status.idle": "2022-07-26T17:53:32.700188Z",
     "shell.execute_reply": "2022-07-26T17:53:32.700645Z",
     "shell.execute_reply.started": "2022-07-26T17:28:52.278460Z"
    },
    "papermill": {
     "duration": 0.124979,
     "end_time": "2022-07-26T17:53:32.700807",
     "exception": false,
     "start_time": "2022-07-26T17:53:32.575828",
     "status": "completed"
    },
    "tags": []
   },
   "outputs": [
    {
     "data": {
      "text/html": [
       "<div>\n",
       "<style scoped>\n",
       "    .dataframe tbody tr th:only-of-type {\n",
       "        vertical-align: middle;\n",
       "    }\n",
       "\n",
       "    .dataframe tbody tr th {\n",
       "        vertical-align: top;\n",
       "    }\n",
       "\n",
       "    .dataframe thead th {\n",
       "        text-align: right;\n",
       "    }\n",
       "</style>\n",
       "<table border=\"1\" class=\"dataframe\">\n",
       "  <thead>\n",
       "    <tr style=\"text-align: right;\">\n",
       "      <th></th>\n",
       "      <th>CustomerID</th>\n",
       "      <th>Diff</th>\n",
       "    </tr>\n",
       "  </thead>\n",
       "  <tbody>\n",
       "    <tr>\n",
       "      <th>0</th>\n",
       "      <td>12346.0</td>\n",
       "      <td>325 days 02:33:00</td>\n",
       "    </tr>\n",
       "    <tr>\n",
       "      <th>1</th>\n",
       "      <td>12347.0</td>\n",
       "      <td>1 days 20:58:00</td>\n",
       "    </tr>\n",
       "    <tr>\n",
       "      <th>2</th>\n",
       "      <td>12348.0</td>\n",
       "      <td>74 days 23:37:00</td>\n",
       "    </tr>\n",
       "    <tr>\n",
       "      <th>3</th>\n",
       "      <td>12349.0</td>\n",
       "      <td>18 days 02:59:00</td>\n",
       "    </tr>\n",
       "    <tr>\n",
       "      <th>4</th>\n",
       "      <td>12350.0</td>\n",
       "      <td>309 days 20:49:00</td>\n",
       "    </tr>\n",
       "  </tbody>\n",
       "</table>\n",
       "</div>"
      ],
      "text/plain": [
       "  CustomerID              Diff\n",
       "0    12346.0 325 days 02:33:00\n",
       "1    12347.0   1 days 20:58:00\n",
       "2    12348.0  74 days 23:37:00\n",
       "3    12349.0  18 days 02:59:00\n",
       "4    12350.0 309 days 20:49:00"
      ]
     },
     "execution_count": 63,
     "metadata": {},
     "output_type": "execute_result"
    }
   ],
   "source": [
    "# Compute last transaction date to get the recency of customers\n",
    "\n",
    "rfm_p = df.groupby('CustomerID')['Diff'].min()\n",
    "rfm_p = rfm_p.reset_index()\n",
    "rfm_p.head()\n"
   ]
  },
  {
   "cell_type": "code",
   "execution_count": 64,
   "id": "5b68aa27",
   "metadata": {
    "execution": {
     "iopub.execute_input": "2022-07-26T17:53:32.832196Z",
     "iopub.status.busy": "2022-07-26T17:53:32.831315Z",
     "iopub.status.idle": "2022-07-26T17:53:32.837124Z",
     "shell.execute_reply": "2022-07-26T17:53:32.837633Z",
     "shell.execute_reply.started": "2022-07-26T17:28:52.351116Z"
    },
    "papermill": {
     "duration": 0.076261,
     "end_time": "2022-07-26T17:53:32.837790",
     "exception": false,
     "start_time": "2022-07-26T17:53:32.761529",
     "status": "completed"
    },
    "tags": []
   },
   "outputs": [
    {
     "data": {
      "text/html": [
       "<div>\n",
       "<style scoped>\n",
       "    .dataframe tbody tr th:only-of-type {\n",
       "        vertical-align: middle;\n",
       "    }\n",
       "\n",
       "    .dataframe tbody tr th {\n",
       "        vertical-align: top;\n",
       "    }\n",
       "\n",
       "    .dataframe thead th {\n",
       "        text-align: right;\n",
       "    }\n",
       "</style>\n",
       "<table border=\"1\" class=\"dataframe\">\n",
       "  <thead>\n",
       "    <tr style=\"text-align: right;\">\n",
       "      <th></th>\n",
       "      <th>CustomerID</th>\n",
       "      <th>Diff</th>\n",
       "    </tr>\n",
       "  </thead>\n",
       "  <tbody>\n",
       "    <tr>\n",
       "      <th>0</th>\n",
       "      <td>12346.0</td>\n",
       "      <td>325</td>\n",
       "    </tr>\n",
       "    <tr>\n",
       "      <th>1</th>\n",
       "      <td>12347.0</td>\n",
       "      <td>1</td>\n",
       "    </tr>\n",
       "    <tr>\n",
       "      <th>2</th>\n",
       "      <td>12348.0</td>\n",
       "      <td>74</td>\n",
       "    </tr>\n",
       "    <tr>\n",
       "      <th>3</th>\n",
       "      <td>12349.0</td>\n",
       "      <td>18</td>\n",
       "    </tr>\n",
       "    <tr>\n",
       "      <th>4</th>\n",
       "      <td>12350.0</td>\n",
       "      <td>309</td>\n",
       "    </tr>\n",
       "  </tbody>\n",
       "</table>\n",
       "</div>"
      ],
      "text/plain": [
       "  CustomerID  Diff\n",
       "0    12346.0   325\n",
       "1    12347.0     1\n",
       "2    12348.0    74\n",
       "3    12349.0    18\n",
       "4    12350.0   309"
      ]
     },
     "execution_count": 64,
     "metadata": {},
     "output_type": "execute_result"
    }
   ],
   "source": [
    "# Extract number of days only\n",
    "\n",
    "rfm_p['Diff'] = rfm_p['Diff'].dt.days\n",
    "rfm_p.head()"
   ]
  },
  {
   "cell_type": "code",
   "execution_count": 65,
   "id": "41d47cc4",
   "metadata": {
    "execution": {
     "iopub.execute_input": "2022-07-26T17:53:32.969140Z",
     "iopub.status.busy": "2022-07-26T17:53:32.968188Z",
     "iopub.status.idle": "2022-07-26T17:53:32.980593Z",
     "shell.execute_reply": "2022-07-26T17:53:32.980068Z",
     "shell.execute_reply.started": "2022-07-26T17:28:52.365803Z"
    },
    "papermill": {
     "duration": 0.082119,
     "end_time": "2022-07-26T17:53:32.980726",
     "exception": false,
     "start_time": "2022-07-26T17:53:32.898607",
     "status": "completed"
    },
    "tags": []
   },
   "outputs": [
    {
     "data": {
      "text/html": [
       "<div>\n",
       "<style scoped>\n",
       "    .dataframe tbody tr th:only-of-type {\n",
       "        vertical-align: middle;\n",
       "    }\n",
       "\n",
       "    .dataframe tbody tr th {\n",
       "        vertical-align: top;\n",
       "    }\n",
       "\n",
       "    .dataframe thead th {\n",
       "        text-align: right;\n",
       "    }\n",
       "</style>\n",
       "<table border=\"1\" class=\"dataframe\">\n",
       "  <thead>\n",
       "    <tr style=\"text-align: right;\">\n",
       "      <th></th>\n",
       "      <th>CustomerID</th>\n",
       "      <th>Amount</th>\n",
       "      <th>Frequency</th>\n",
       "      <th>Recency</th>\n",
       "    </tr>\n",
       "  </thead>\n",
       "  <tbody>\n",
       "    <tr>\n",
       "      <th>0</th>\n",
       "      <td>12346.0</td>\n",
       "      <td>0.00</td>\n",
       "      <td>2</td>\n",
       "      <td>325</td>\n",
       "    </tr>\n",
       "    <tr>\n",
       "      <th>1</th>\n",
       "      <td>12347.0</td>\n",
       "      <td>4310.00</td>\n",
       "      <td>182</td>\n",
       "      <td>1</td>\n",
       "    </tr>\n",
       "    <tr>\n",
       "      <th>2</th>\n",
       "      <td>12348.0</td>\n",
       "      <td>1797.24</td>\n",
       "      <td>31</td>\n",
       "      <td>74</td>\n",
       "    </tr>\n",
       "    <tr>\n",
       "      <th>3</th>\n",
       "      <td>12349.0</td>\n",
       "      <td>1757.55</td>\n",
       "      <td>73</td>\n",
       "      <td>18</td>\n",
       "    </tr>\n",
       "    <tr>\n",
       "      <th>4</th>\n",
       "      <td>12350.0</td>\n",
       "      <td>334.40</td>\n",
       "      <td>17</td>\n",
       "      <td>309</td>\n",
       "    </tr>\n",
       "  </tbody>\n",
       "</table>\n",
       "</div>"
      ],
      "text/plain": [
       "  CustomerID   Amount  Frequency  Recency\n",
       "0    12346.0     0.00          2      325\n",
       "1    12347.0  4310.00        182        1\n",
       "2    12348.0  1797.24         31       74\n",
       "3    12349.0  1757.55         73       18\n",
       "4    12350.0   334.40         17      309"
      ]
     },
     "execution_count": 65,
     "metadata": {},
     "output_type": "execute_result"
    }
   ],
   "source": [
    "# Merge tha dataframes to get the final RFM dataframe\n",
    "\n",
    "rfm = pd.merge(rfm, rfm_p, on='CustomerID', how='inner')\n",
    "rfm.columns = ['CustomerID', 'Amount', 'Frequency', 'Recency']\n",
    "rfm.head()"
   ]
  },
  {
   "cell_type": "markdown",
   "id": "e925c186",
   "metadata": {
    "papermill": {
     "duration": 0.062501,
     "end_time": "2022-07-26T17:53:33.107459",
     "exception": false,
     "start_time": "2022-07-26T17:53:33.044958",
     "status": "completed"
    },
    "tags": []
   },
   "source": [
    "# 5. Dealing with Outliers"
   ]
  },
  {
   "cell_type": "code",
   "execution_count": 66,
   "id": "8b464129",
   "metadata": {
    "execution": {
     "iopub.execute_input": "2022-07-26T17:53:33.243158Z",
     "iopub.status.busy": "2022-07-26T17:53:33.242164Z",
     "iopub.status.idle": "2022-07-26T17:53:33.486622Z",
     "shell.execute_reply": "2022-07-26T17:53:33.485872Z",
     "shell.execute_reply.started": "2022-07-26T17:28:52.388387Z"
    },
    "papermill": {
     "duration": 0.315523,
     "end_time": "2022-07-26T17:53:33.486806",
     "exception": false,
     "start_time": "2022-07-26T17:53:33.171283",
     "status": "completed"
    },
    "tags": []
   },
   "outputs": [
    {
     "data": {
      "text/plain": [
       "Text(0.5, 0, 'Attributes')"
      ]
     },
     "execution_count": 66,
     "metadata": {},
     "output_type": "execute_result"
    },
    {
     "data": {
      "image/png": "[encoded data removed]",
      "text/plain": [
       "<Figure size 1000x800 with 1 Axes>"
      ]
     },
     "metadata": {},
     "output_type": "display_data"
    }
   ],
   "source": [
    "# Outlier Analysis of Amount Frequency and Recency\n",
    "\n",
    "attributes = ['Amount','Frequency','Recency']\n",
    "plt.rcParams['figure.figsize'] = [10,8]\n",
    "sns.boxplot(data = rfm[attributes], orient=\"v\", palette=\"Set2\" ,whis=1.5,saturation=1, width=0.7)\n",
    "plt.title(\"Outliers Variable Distribution\", fontsize = 14, fontweight = 'bold')\n",
    "plt.ylabel(\"Range\", fontweight = 'bold')\n",
    "plt.xlabel(\"Attributes\", fontweight = 'bold')\n"
   ]
  },
  {
   "cell_type": "code",
   "execution_count": 67,
   "id": "05c491c0",
   "metadata": {
    "execution": {
     "iopub.execute_input": "2022-07-26T17:53:33.620490Z",
     "iopub.status.busy": "2022-07-26T17:53:33.619212Z",
     "iopub.status.idle": "2022-07-26T17:53:33.630900Z",
     "shell.execute_reply": "2022-07-26T17:53:33.630417Z",
     "shell.execute_reply.started": "2022-07-26T17:28:52.648291Z"
    },
    "papermill": {
     "duration": 0.082446,
     "end_time": "2022-07-26T17:53:33.631033",
     "exception": false,
     "start_time": "2022-07-26T17:53:33.548587",
     "status": "completed"
    },
    "tags": []
   },
   "outputs": [],
   "source": [
    "# Removing (statistical) outliers for Amount\n",
    "Q1 = rfm.Amount.quantile(0.05)\n",
    "Q3 = rfm.Amount.quantile(0.95)\n",
    "IQR = Q3 - Q1\n",
    "rfm = rfm[(rfm.Amount >= Q1 - 1.5*IQR) & (rfm.Amount <= Q3 + 1.5*IQR)]\n",
    "\n",
    "# Removing (statistical) outliers for Recency\n",
    "Q1 = rfm.Recency.quantile(0.05)\n",
    "Q3 = rfm.Recency.quantile(0.95)\n",
    "IQR = Q3 - Q1\n",
    "rfm = rfm[(rfm.Recency >= Q1 - 1.5*IQR) & (rfm.Recency <= Q3 + 1.5*IQR)]\n",
    "\n",
    "# Removing (statistical) outliers for Frequency\n",
    "Q1 = rfm.Frequency.quantile(0.05)\n",
    "Q3 = rfm.Frequency.quantile(0.95)\n",
    "IQR = Q3 - Q1\n",
    "rfm = rfm[(rfm.Frequency >= Q1 - 1.5*IQR) & (rfm.Frequency <= Q3 + 1.5*IQR)]"
   ]
  },
  {
   "cell_type": "code",
   "execution_count": 68,
   "id": "799f4f95",
   "metadata": {
    "execution": {
     "iopub.execute_input": "2022-07-26T17:53:33.759852Z",
     "iopub.status.busy": "2022-07-26T17:53:33.758620Z",
     "iopub.status.idle": "2022-07-26T17:53:33.767037Z",
     "shell.execute_reply": "2022-07-26T17:53:33.766620Z",
     "shell.execute_reply.started": "2022-07-26T17:28:52.676677Z"
    },
    "papermill": {
     "duration": 0.074495,
     "end_time": "2022-07-26T17:53:33.767197",
     "exception": false,
     "start_time": "2022-07-26T17:53:33.692702",
     "status": "completed"
    },
    "tags": []
   },
   "outputs": [
    {
     "data": {
      "text/plain": [
       "(4293, 3)"
      ]
     },
     "execution_count": 68,
     "metadata": {},
     "output_type": "execute_result"
    }
   ],
   "source": [
    "# Rescaling the attributes\n",
    "\n",
    "rfm_df = rfm[['Amount', 'Frequency', 'Recency']]\n",
    "\n",
    "# Instantiate\n",
    "scaler = StandardScaler()\n",
    "\n",
    "# fit_transform\n",
    "rfm_df_scaled = scaler.fit_transform(rfm_df)\n",
    "rfm_df_scaled.shape"
   ]
  },
  {
   "cell_type": "code",
   "execution_count": 69,
   "id": "9ecc661e",
   "metadata": {
    "execution": {
     "iopub.execute_input": "2022-07-26T17:53:33.892200Z",
     "iopub.status.busy": "2022-07-26T17:53:33.891549Z",
     "iopub.status.idle": "2022-07-26T17:53:33.894382Z",
     "shell.execute_reply": "2022-07-26T17:53:33.894796Z",
     "shell.execute_reply.started": "2022-07-26T17:28:52.693571Z"
    },
    "papermill": {
     "duration": 0.069843,
     "end_time": "2022-07-26T17:53:33.894930",
     "exception": false,
     "start_time": "2022-07-26T17:53:33.825087",
     "status": "completed"
    },
    "tags": []
   },
   "outputs": [
    {
     "data": {
      "text/html": [
       "<div>\n",
       "<style scoped>\n",
       "    .dataframe tbody tr th:only-of-type {\n",
       "        vertical-align: middle;\n",
       "    }\n",
       "\n",
       "    .dataframe tbody tr th {\n",
       "        vertical-align: top;\n",
       "    }\n",
       "\n",
       "    .dataframe thead th {\n",
       "        text-align: right;\n",
       "    }\n",
       "</style>\n",
       "<table border=\"1\" class=\"dataframe\">\n",
       "  <thead>\n",
       "    <tr style=\"text-align: right;\">\n",
       "      <th></th>\n",
       "      <th>Amount</th>\n",
       "      <th>Frequency</th>\n",
       "      <th>Recency</th>\n",
       "    </tr>\n",
       "  </thead>\n",
       "  <tbody>\n",
       "    <tr>\n",
       "      <th>0</th>\n",
       "      <td>-0.723738</td>\n",
       "      <td>-0.752888</td>\n",
       "      <td>2.301611</td>\n",
       "    </tr>\n",
       "    <tr>\n",
       "      <th>1</th>\n",
       "      <td>1.731617</td>\n",
       "      <td>1.042467</td>\n",
       "      <td>-0.906466</td>\n",
       "    </tr>\n",
       "    <tr>\n",
       "      <th>2</th>\n",
       "      <td>0.300128</td>\n",
       "      <td>-0.463636</td>\n",
       "      <td>-0.183658</td>\n",
       "    </tr>\n",
       "    <tr>\n",
       "      <th>3</th>\n",
       "      <td>0.277517</td>\n",
       "      <td>-0.044720</td>\n",
       "      <td>-0.738141</td>\n",
       "    </tr>\n",
       "    <tr>\n",
       "      <th>4</th>\n",
       "      <td>-0.533235</td>\n",
       "      <td>-0.603275</td>\n",
       "      <td>2.143188</td>\n",
       "    </tr>\n",
       "  </tbody>\n",
       "</table>\n",
       "</div>"
      ],
      "text/plain": [
       "     Amount  Frequency   Recency\n",
       "0 -0.723738  -0.752888  2.301611\n",
       "1  1.731617   1.042467 -0.906466\n",
       "2  0.300128  -0.463636 -0.183658\n",
       "3  0.277517  -0.044720 -0.738141\n",
       "4 -0.533235  -0.603275  2.143188"
      ]
     },
     "execution_count": 69,
     "metadata": {},
     "output_type": "execute_result"
    }
   ],
   "source": [
    "rfm_df_scaled = pd.DataFrame(rfm_df_scaled)\n",
    "rfm_df_scaled.columns = ['Amount', 'Frequency', 'Recency']\n",
    "rfm_df_scaled.head()"
   ]
  },
  {
   "cell_type": "markdown",
   "id": "e422b0b8",
   "metadata": {
    "papermill": {
     "duration": 0.057885,
     "end_time": "2022-07-26T17:53:34.011520",
     "exception": false,
     "start_time": "2022-07-26T17:53:33.953635",
     "status": "completed"
    },
    "tags": []
   },
   "source": [
    "# 6. K-Means"
   ]
  },
  {
   "cell_type": "code",
   "execution_count": 70,
   "id": "eaee111b",
   "metadata": {
    "execution": {
     "iopub.execute_input": "2022-07-26T17:53:34.133023Z",
     "iopub.status.busy": "2022-07-26T17:53:34.131104Z",
     "iopub.status.idle": "2022-07-26T17:53:34.678168Z",
     "shell.execute_reply": "2022-07-26T17:53:34.677617Z",
     "shell.execute_reply.started": "2022-07-26T17:28:52.710142Z"
    },
    "papermill": {
     "duration": 0.618962,
     "end_time": "2022-07-26T17:53:34.688401",
     "exception": false,
     "start_time": "2022-07-26T17:53:34.069439",
     "status": "completed"
    },
    "tags": []
   },
   "outputs": [
    {
     "data": {
      "text/plain": [
       "KMeans(max_iter=50, n_clusters=4)"
      ]
     },
     "execution_count": 70,
     "metadata": {},
     "output_type": "execute_result"
    }
   ],
   "source": [
    "# k-means with some arbitrary k\n",
    "\n",
    "kmeans = KMeans(n_clusters=4, max_iter=50)\n",
    "kmeans.fit(rfm_df_scaled)"
   ]
  },
  {
   "cell_type": "code",
   "execution_count": 71,
   "id": "dbde26d7",
   "metadata": {
    "execution": {
     "iopub.execute_input": "2022-07-26T17:53:35.046138Z",
     "iopub.status.busy": "2022-07-26T17:53:35.045080Z",
     "iopub.status.idle": "2022-07-26T17:53:35.048907Z",
     "shell.execute_reply": "2022-07-26T17:53:35.046960Z",
     "shell.execute_reply.started": "2022-07-26T17:28:54.113500Z"
    },
    "papermill": {
     "duration": 0.154549,
     "end_time": "2022-07-26T17:53:35.049092",
     "exception": false,
     "start_time": "2022-07-26T17:53:34.894543",
     "status": "completed"
    },
    "tags": []
   },
   "outputs": [
    {
     "data": {
      "text/plain": [
       "array([0, 3, 2, ..., 0, 2, 2])"
      ]
     },
     "execution_count": 71,
     "metadata": {},
     "output_type": "execute_result"
    }
   ],
   "source": [
    "kmeans.labels_"
   ]
  },
  {
   "cell_type": "code",
   "execution_count": 72,
   "id": "6aa7a0cc",
   "metadata": {
    "execution": {
     "iopub.execute_input": "2022-07-26T17:53:35.828088Z",
     "iopub.status.busy": "2022-07-26T17:53:35.826911Z",
     "iopub.status.idle": "2022-07-26T17:53:37.636054Z",
     "shell.execute_reply": "2022-07-26T17:53:37.636837Z",
     "shell.execute_reply.started": "2022-07-26T17:28:54.138668Z"
    },
    "papermill": {
     "duration": 1.908214,
     "end_time": "2022-07-26T17:53:37.637010",
     "exception": false,
     "start_time": "2022-07-26T17:53:35.728796",
     "status": "completed"
    },
    "tags": []
   },
   "outputs": [
    {
     "data": {
      "text/plain": [
       "Text(0, 0.5, 'Intertia')"
      ]
     },
     "execution_count": 72,
     "metadata": {},
     "output_type": "execute_result"
    },
    {
     "data": {
      "image/png": "[encoded data removed]",
      "text/plain": [
       "<Figure size 1000x800 with 1 Axes>"
      ]
     },
     "metadata": {},
     "output_type": "display_data"
    }
   ],
   "source": [
    "# Elbow-curve/SSD\n",
    "\n",
    "ssd = []\n",
    "range_n_clusters = [2, 3, 4, 5, 6, 7, 8]\n",
    "for num_clusters in range_n_clusters:\n",
    "    kmeans = KMeans(n_clusters=num_clusters, max_iter=50)\n",
    "    kmeans.fit(rfm_df_scaled)\n",
    "    \n",
    "    ssd.append(kmeans.inertia_)\n",
    "    \n",
    "# plot the SSDs for each n_clusters\n",
    "plt.plot(ssd, marker='o')\n",
    "plt.title('Clusters Vs SSD')\n",
    "plt.xlabel('No of Clusters')\n",
    "plt.ylabel('Intertia')\n"
   ]
  },
  {
   "cell_type": "code",
   "execution_count": 30,
   "id": "10b8e265",
   "metadata": {
    "execution": {
     "iopub.execute_input": "2022-07-26T17:53:37.941026Z",
     "iopub.status.busy": "2022-07-26T17:53:37.940394Z",
     "iopub.status.idle": "2022-07-26T17:53:42.861337Z",
     "shell.execute_reply": "2022-07-26T17:53:42.862350Z",
     "shell.execute_reply.started": "2022-07-26T17:29:04.032812Z"
    },
    "papermill": {
     "duration": 5.004546,
     "end_time": "2022-07-26T17:53:42.862581",
     "exception": false,
     "start_time": "2022-07-26T17:53:37.858035",
     "status": "completed"
    },
    "tags": []
   },
   "outputs": [
    {
     "name": "stdout",
     "output_type": "stream",
     "text": [
      "For n_clusters=2, the silhouette score is 0.5415858652525395\n",
      "For n_clusters=3, the silhouette score is 0.5084896296141937\n",
      "For n_clusters=4, the silhouette score is 0.4777820100216849\n",
      "For n_clusters=5, the silhouette score is 0.46549133435429624\n",
      "For n_clusters=6, the silhouette score is 0.41742250872395564\n",
      "For n_clusters=7, the silhouette score is 0.4154011163465708\n",
      "For n_clusters=8, the silhouette score is 0.394692642046272\n"
     ]
    }
   ],
   "source": [
    "# Silhouette analysis\n",
    "range_n_clusters = [2, 3, 4, 5, 6, 7, 8]\n",
    "\n",
    "for num_clusters in range_n_clusters:\n",
    "    \n",
    "    # intialise kmeans\n",
    "    kmeans = KMeans(n_clusters=num_clusters, max_iter=50)\n",
    "    kmeans.fit(rfm_df_scaled)\n",
    "    \n",
    "    cluster_labels = kmeans.labels_\n",
    "    \n",
    "    # silhouette score\n",
    "    silhouette_avg = silhouette_score(rfm_df_scaled, cluster_labels)\n",
    "    print(\"For n_clusters={0}, the silhouette score is {1}\".format(num_clusters, silhouette_avg))"
   ]
  },
  {
   "cell_type": "code",
   "execution_count": 31,
   "id": "7a24cbbb",
   "metadata": {
    "execution": {
     "iopub.execute_input": "2022-07-26T17:53:43.033297Z",
     "iopub.status.busy": "2022-07-26T17:53:43.032667Z",
     "iopub.status.idle": "2022-07-26T17:53:43.160780Z",
     "shell.execute_reply": "2022-07-26T17:53:43.162080Z",
     "shell.execute_reply.started": "2022-07-26T17:29:17.016570Z"
    },
    "papermill": {
     "duration": 0.219946,
     "end_time": "2022-07-26T17:53:43.162340",
     "exception": false,
     "start_time": "2022-07-26T17:53:42.942394",
     "status": "completed"
    },
    "tags": []
   },
   "outputs": [
    {
     "data": {
      "text/plain": [
       "KMeans(max_iter=50, n_clusters=3)"
      ]
     },
     "execution_count": 31,
     "metadata": {},
     "output_type": "execute_result"
    }
   ],
   "source": [
    "# Final model with k=3\n",
    "kmeans = KMeans(n_clusters=3, max_iter=50)\n",
    "kmeans.fit(rfm_df_scaled)\n"
   ]
  },
  {
   "cell_type": "code",
   "execution_count": 32,
   "id": "0e586a31",
   "metadata": {
    "execution": {
     "iopub.execute_input": "2022-07-26T17:53:43.392875Z",
     "iopub.status.busy": "2022-07-26T17:53:43.391990Z",
     "iopub.status.idle": "2022-07-26T17:53:43.396011Z",
     "shell.execute_reply": "2022-07-26T17:53:43.396470Z",
     "shell.execute_reply.started": "2022-07-26T17:29:18.346780Z"
    },
    "papermill": {
     "duration": 0.084909,
     "end_time": "2022-07-26T17:53:43.396631",
     "exception": false,
     "start_time": "2022-07-26T17:53:43.311722",
     "status": "completed"
    },
    "tags": []
   },
   "outputs": [
    {
     "data": {
      "text/plain": [
       "array([2, 0, 1, ..., 2, 1, 1])"
      ]
     },
     "execution_count": 32,
     "metadata": {},
     "output_type": "execute_result"
    }
   ],
   "source": [
    " kmeans.labels_"
   ]
  },
  {
   "cell_type": "code",
   "execution_count": 33,
   "id": "9eab1044",
   "metadata": {
    "execution": {
     "iopub.execute_input": "2022-07-26T17:53:43.558234Z",
     "iopub.status.busy": "2022-07-26T17:53:43.557583Z",
     "iopub.status.idle": "2022-07-26T17:53:43.561976Z",
     "shell.execute_reply": "2022-07-26T17:53:43.562494Z",
     "shell.execute_reply.started": "2022-07-26T17:29:18.356185Z"
    },
    "papermill": {
     "duration": 0.09084,
     "end_time": "2022-07-26T17:53:43.562662",
     "exception": false,
     "start_time": "2022-07-26T17:53:43.471822",
     "status": "completed"
    },
    "tags": []
   },
   "outputs": [
    {
     "data": {
      "text/html": [
       "<div>\n",
       "<style scoped>\n",
       "    .dataframe tbody tr th:only-of-type {\n",
       "        vertical-align: middle;\n",
       "    }\n",
       "\n",
       "    .dataframe tbody tr th {\n",
       "        vertical-align: top;\n",
       "    }\n",
       "\n",
       "    .dataframe thead th {\n",
       "        text-align: right;\n",
       "    }\n",
       "</style>\n",
       "<table border=\"1\" class=\"dataframe\">\n",
       "  <thead>\n",
       "    <tr style=\"text-align: right;\">\n",
       "      <th></th>\n",
       "      <th>CustomerID</th>\n",
       "      <th>Amount</th>\n",
       "      <th>Frequency</th>\n",
       "      <th>Recency</th>\n",
       "      <th>Cluster_Id</th>\n",
       "    </tr>\n",
       "  </thead>\n",
       "  <tbody>\n",
       "    <tr>\n",
       "      <th>0</th>\n",
       "      <td>12346.0</td>\n",
       "      <td>0.00</td>\n",
       "      <td>2</td>\n",
       "      <td>325</td>\n",
       "      <td>2</td>\n",
       "    </tr>\n",
       "    <tr>\n",
       "      <th>1</th>\n",
       "      <td>12347.0</td>\n",
       "      <td>4310.00</td>\n",
       "      <td>182</td>\n",
       "      <td>1</td>\n",
       "      <td>0</td>\n",
       "    </tr>\n",
       "    <tr>\n",
       "      <th>2</th>\n",
       "      <td>12348.0</td>\n",
       "      <td>1797.24</td>\n",
       "      <td>31</td>\n",
       "      <td>74</td>\n",
       "      <td>1</td>\n",
       "    </tr>\n",
       "    <tr>\n",
       "      <th>3</th>\n",
       "      <td>12349.0</td>\n",
       "      <td>1757.55</td>\n",
       "      <td>73</td>\n",
       "      <td>18</td>\n",
       "      <td>1</td>\n",
       "    </tr>\n",
       "    <tr>\n",
       "      <th>4</th>\n",
       "      <td>12350.0</td>\n",
       "      <td>334.40</td>\n",
       "      <td>17</td>\n",
       "      <td>309</td>\n",
       "      <td>2</td>\n",
       "    </tr>\n",
       "  </tbody>\n",
       "</table>\n",
       "</div>"
      ],
      "text/plain": [
       "  CustomerID   Amount  Frequency  Recency  Cluster_Id\n",
       "0    12346.0     0.00          2      325           2\n",
       "1    12347.0  4310.00        182        1           0\n",
       "2    12348.0  1797.24         31       74           1\n",
       "3    12349.0  1757.55         73       18           1\n",
       "4    12350.0   334.40         17      309           2"
      ]
     },
     "execution_count": 33,
     "metadata": {},
     "output_type": "execute_result"
    }
   ],
   "source": [
    "# assign the label\n",
    "rfm['Cluster_Id'] = kmeans.labels_\n",
    "rfm.head()"
   ]
  },
  {
   "cell_type": "code",
   "execution_count": 34,
   "id": "e75573d2",
   "metadata": {
    "execution": {
     "iopub.execute_input": "2022-07-26T17:53:43.737145Z",
     "iopub.status.busy": "2022-07-26T17:53:43.736168Z",
     "iopub.status.idle": "2022-07-26T17:53:43.995823Z",
     "shell.execute_reply": "2022-07-26T17:53:43.996448Z",
     "shell.execute_reply.started": "2022-07-26T17:29:18.391772Z"
    },
    "papermill": {
     "duration": 0.351396,
     "end_time": "2022-07-26T17:53:43.996639",
     "exception": false,
     "start_time": "2022-07-26T17:53:43.645243",
     "status": "completed"
    },
    "tags": []
   },
   "outputs": [
    {
     "data": {
      "text/plain": [
       "<AxesSubplot:xlabel='Cluster_Id', ylabel='Amount'>"
      ]
     },
     "execution_count": 34,
     "metadata": {},
     "output_type": "execute_result"
    },
    {
     "data": {
      "image/png": "[encoded data removed]",
      "text/plain": [
       "<Figure size 1000x800 with 1 Axes>"
      ]
     },
     "metadata": {},
     "output_type": "display_data"
    }
   ],
   "source": [
    "# Box plot to visualize Cluster Id vs Frequency\n",
    "\n",
    "sns.boxplot(x='Cluster_Id', y='Amount', data=rfm)"
   ]
  },
  {
   "cell_type": "code",
   "execution_count": 35,
   "id": "10883c03",
   "metadata": {
    "execution": {
     "iopub.execute_input": "2022-07-26T17:53:44.153976Z",
     "iopub.status.busy": "2022-07-26T17:53:44.153101Z",
     "iopub.status.idle": "2022-07-26T17:53:44.396751Z",
     "shell.execute_reply": "2022-07-26T17:53:44.397220Z",
     "shell.execute_reply.started": "2022-07-26T17:29:18.692366Z"
    },
    "papermill": {
     "duration": 0.324571,
     "end_time": "2022-07-26T17:53:44.397405",
     "exception": false,
     "start_time": "2022-07-26T17:53:44.072834",
     "status": "completed"
    },
    "tags": []
   },
   "outputs": [
    {
     "data": {
      "text/plain": [
       "<AxesSubplot:xlabel='Cluster_Id', ylabel='Frequency'>"
      ]
     },
     "execution_count": 35,
     "metadata": {},
     "output_type": "execute_result"
    },
    {
     "data": {
      "image/png": "[encoded data removed]",
      "text/plain": [
       "<Figure size 1000x800 with 1 Axes>"
      ]
     },
     "metadata": {},
     "output_type": "display_data"
    }
   ],
   "source": [
    "\n",
    "sns.boxplot(x='Cluster_Id', y='Frequency', data=rfm)"
   ]
  },
  {
   "cell_type": "code",
   "execution_count": 36,
   "id": "612eb9a9",
   "metadata": {
    "execution": {
     "iopub.execute_input": "2022-07-26T17:53:44.540355Z",
     "iopub.status.busy": "2022-07-26T17:53:44.539518Z",
     "iopub.status.idle": "2022-07-26T17:53:44.757330Z",
     "shell.execute_reply": "2022-07-26T17:53:44.756873Z",
     "shell.execute_reply.started": "2022-07-26T17:29:18.940104Z"
    },
    "papermill": {
     "duration": 0.29005,
     "end_time": "2022-07-26T17:53:44.757464",
     "exception": false,
     "start_time": "2022-07-26T17:53:44.467414",
     "status": "completed"
    },
    "tags": []
   },
   "outputs": [
    {
     "data": {
      "text/plain": [
       "<AxesSubplot:xlabel='Cluster_Id', ylabel='Recency'>"
      ]
     },
     "execution_count": 36,
     "metadata": {},
     "output_type": "execute_result"
    },
    {
     "data": {
      "image/png": "[encoded data removed]",
      "text/plain": [
       "<Figure size 1000x800 with 1 Axes>"
      ]
     },
     "metadata": {},
     "output_type": "display_data"
    }
   ],
   "source": [
    "# Box plot to visualize Cluster Id vs Recency\n",
    "\n",
    "sns.boxplot(x='Cluster_Id', y='Recency', data=rfm)"
   ]
  },
  {
   "cell_type": "markdown",
   "id": "61c23ff7",
   "metadata": {
    "papermill": {
     "duration": 0.070925,
     "end_time": "2022-07-26T17:53:44.895560",
     "exception": false,
     "start_time": "2022-07-26T17:53:44.824635",
     "status": "completed"
    },
    "tags": []
   },
   "source": [
    "# 7. Results (K-means Clustering)\n",
    "\n",
    "**Analysis of Results (K-Means clustering):**\n",
    "\n",
    "1. Customer with Cluster_id 1 has contributed the highest amount and least is the \n",
    "   customers with Cluster_id 2.\n",
    "2. The most frequent buyers are clients with Cluster-id 1.\n",
    "3. Customers are not recent buyers of Cluster-id 2.\n"
   ]
  },
  {
   "cell_type": "markdown",
   "id": "7981586a",
   "metadata": {
    "papermill": {
     "duration": 0.069422,
     "end_time": "2022-07-26T17:53:45.033902",
     "exception": false,
     "start_time": "2022-07-26T17:53:44.964480",
     "status": "completed"
    },
    "tags": []
   },
   "source": [
    "# 8. Hierarchical Clustering"
   ]
  },
  {
   "cell_type": "code",
   "execution_count": 37,
   "id": "cb63e8e6",
   "metadata": {
    "execution": {
     "iopub.execute_input": "2022-07-26T17:53:45.303302Z",
     "iopub.status.busy": "2022-07-26T17:53:45.302508Z",
     "iopub.status.idle": "2022-07-26T17:55:07.459745Z",
     "shell.execute_reply": "2022-07-26T17:55:07.460270Z",
     "shell.execute_reply.started": "2022-07-26T17:29:19.185974Z"
    },
    "papermill": {
     "duration": 82.227243,
     "end_time": "2022-07-26T17:55:07.460462",
     "exception": false,
     "start_time": "2022-07-26T17:53:45.233219",
     "status": "completed"
    },
    "tags": []
   },
   "outputs": [
    {
     "data": {
      "image/png": "[encoded data removed]",
      "text/plain": [
       "<Figure size 1000x800 with 1 Axes>"
      ]
     },
     "metadata": {},
     "output_type": "display_data"
    }
   ],
   "source": [
    "# Single linkage: \n",
    "\n",
    "mergings = linkage(rfm_df_scaled, method=\"single\", metric='euclidean')\n",
    "dendrogram(mergings)\n",
    "plt.show()"
   ]
  },
  {
   "cell_type": "code",
   "execution_count": 38,
   "id": "06e5e0e6",
   "metadata": {
    "execution": {
     "iopub.execute_input": "2022-07-26T17:55:07.811333Z",
     "iopub.status.busy": "2022-07-26T17:55:07.810363Z",
     "iopub.status.idle": "2022-07-26T17:56:33.737460Z",
     "shell.execute_reply": "2022-07-26T17:56:33.737964Z",
     "shell.execute_reply.started": "2022-07-26T17:30:45.632748Z"
    },
    "papermill": {
     "duration": 86.011319,
     "end_time": "2022-07-26T17:56:33.738137",
     "exception": false,
     "start_time": "2022-07-26T17:55:07.726818",
     "status": "completed"
    },
    "tags": []
   },
   "outputs": [
    {
     "data": {
      "image/png": "[encoded data removed]",
      "text/plain": [
       "<Figure size 1000x800 with 1 Axes>"
      ]
     },
     "metadata": {},
     "output_type": "display_data"
    }
   ],
   "source": [
    "# Complete linkage\n",
    "\n",
    "mergings = linkage(rfm_df_scaled, method=\"complete\", metric='euclidean')\n",
    "dendrogram(mergings)\n",
    "plt.show()"
   ]
  },
  {
   "cell_type": "code",
   "execution_count": 39,
   "id": "bc55f1fc",
   "metadata": {
    "execution": {
     "iopub.execute_input": "2022-07-26T17:56:34.033870Z",
     "iopub.status.busy": "2022-07-26T17:56:34.033040Z",
     "iopub.status.idle": "2022-07-26T17:58:00.639193Z",
     "shell.execute_reply": "2022-07-26T17:58:00.639661Z",
     "shell.execute_reply.started": "2022-07-26T17:32:12.218053Z"
    },
    "papermill": {
     "duration": 86.680746,
     "end_time": "2022-07-26T17:58:00.639827",
     "exception": false,
     "start_time": "2022-07-26T17:56:33.959081",
     "status": "completed"
    },
    "tags": []
   },
   "outputs": [
    {
     "data": {
      "image/png": "[encoded data removed]",
      "text/plain": [
       "<Figure size 1000x800 with 1 Axes>"
      ]
     },
     "metadata": {},
     "output_type": "display_data"
    }
   ],
   "source": [
    "# Average linkage\n",
    "\n",
    "mergings = linkage(rfm_df_scaled, method=\"average\", metric='euclidean')\n",
    "dendrogram(mergings)\n",
    "plt.show()"
   ]
  },
  {
   "cell_type": "code",
   "execution_count": 40,
   "id": "d4cc0f9e",
   "metadata": {
    "execution": {
     "iopub.execute_input": "2022-07-26T17:58:00.785207Z",
     "iopub.status.busy": "2022-07-26T17:58:00.784183Z",
     "iopub.status.idle": "2022-07-26T17:58:01.309354Z",
     "shell.execute_reply": "2022-07-26T17:58:01.309829Z",
     "shell.execute_reply.started": "2022-07-26T17:33:39.024377Z"
    },
    "papermill": {
     "duration": 0.599843,
     "end_time": "2022-07-26T17:58:01.309985",
     "exception": false,
     "start_time": "2022-07-26T17:58:00.710142",
     "status": "completed"
    },
    "tags": []
   },
   "outputs": [
    {
     "data": {
      "text/plain": [
       "array([0, 0, 0, ..., 0, 0, 0])"
      ]
     },
     "execution_count": 40,
     "metadata": {},
     "output_type": "execute_result"
    }
   ],
   "source": [
    "# 3 clusters\n",
    "cluster_labels = cut_tree(mergings, n_clusters=3).reshape(-1, )\n",
    "cluster_labels"
   ]
  },
  {
   "cell_type": "code",
   "execution_count": 41,
   "id": "bd902cdd",
   "metadata": {
    "execution": {
     "iopub.execute_input": "2022-07-26T17:58:01.463768Z",
     "iopub.status.busy": "2022-07-26T17:58:01.463003Z",
     "iopub.status.idle": "2022-07-26T17:58:01.465834Z",
     "shell.execute_reply": "2022-07-26T17:58:01.466236Z",
     "shell.execute_reply.started": "2022-07-26T17:33:39.670578Z"
    },
    "papermill": {
     "duration": 0.08594,
     "end_time": "2022-07-26T17:58:01.466385",
     "exception": false,
     "start_time": "2022-07-26T17:58:01.380445",
     "status": "completed"
    },
    "tags": []
   },
   "outputs": [
    {
     "data": {
      "text/html": [
       "<div>\n",
       "<style scoped>\n",
       "    .dataframe tbody tr th:only-of-type {\n",
       "        vertical-align: middle;\n",
       "    }\n",
       "\n",
       "    .dataframe tbody tr th {\n",
       "        vertical-align: top;\n",
       "    }\n",
       "\n",
       "    .dataframe thead th {\n",
       "        text-align: right;\n",
       "    }\n",
       "</style>\n",
       "<table border=\"1\" class=\"dataframe\">\n",
       "  <thead>\n",
       "    <tr style=\"text-align: right;\">\n",
       "      <th></th>\n",
       "      <th>CustomerID</th>\n",
       "      <th>Amount</th>\n",
       "      <th>Frequency</th>\n",
       "      <th>Recency</th>\n",
       "      <th>Cluster_Id</th>\n",
       "      <th>Cluster_Labels</th>\n",
       "    </tr>\n",
       "  </thead>\n",
       "  <tbody>\n",
       "    <tr>\n",
       "      <th>0</th>\n",
       "      <td>12346.0</td>\n",
       "      <td>0.00</td>\n",
       "      <td>2</td>\n",
       "      <td>325</td>\n",
       "      <td>2</td>\n",
       "      <td>0</td>\n",
       "    </tr>\n",
       "    <tr>\n",
       "      <th>1</th>\n",
       "      <td>12347.0</td>\n",
       "      <td>4310.00</td>\n",
       "      <td>182</td>\n",
       "      <td>1</td>\n",
       "      <td>0</td>\n",
       "      <td>0</td>\n",
       "    </tr>\n",
       "    <tr>\n",
       "      <th>2</th>\n",
       "      <td>12348.0</td>\n",
       "      <td>1797.24</td>\n",
       "      <td>31</td>\n",
       "      <td>74</td>\n",
       "      <td>1</td>\n",
       "      <td>0</td>\n",
       "    </tr>\n",
       "    <tr>\n",
       "      <th>3</th>\n",
       "      <td>12349.0</td>\n",
       "      <td>1757.55</td>\n",
       "      <td>73</td>\n",
       "      <td>18</td>\n",
       "      <td>1</td>\n",
       "      <td>0</td>\n",
       "    </tr>\n",
       "    <tr>\n",
       "      <th>4</th>\n",
       "      <td>12350.0</td>\n",
       "      <td>334.40</td>\n",
       "      <td>17</td>\n",
       "      <td>309</td>\n",
       "      <td>2</td>\n",
       "      <td>0</td>\n",
       "    </tr>\n",
       "  </tbody>\n",
       "</table>\n",
       "</div>"
      ],
      "text/plain": [
       "  CustomerID   Amount  Frequency  Recency  Cluster_Id  Cluster_Labels\n",
       "0    12346.0     0.00          2      325           2               0\n",
       "1    12347.0  4310.00        182        1           0               0\n",
       "2    12348.0  1797.24         31       74           1               0\n",
       "3    12349.0  1757.55         73       18           1               0\n",
       "4    12350.0   334.40         17      309           2               0"
      ]
     },
     "execution_count": 41,
     "metadata": {},
     "output_type": "execute_result"
    }
   ],
   "source": [
    "# Assign cluster labels\n",
    "\n",
    "rfm['Cluster_Labels'] = cluster_labels\n",
    "rfm.head()"
   ]
  },
  {
   "cell_type": "code",
   "execution_count": 42,
   "id": "824b41eb",
   "metadata": {
    "execution": {
     "iopub.execute_input": "2022-07-26T17:58:01.614900Z",
     "iopub.status.busy": "2022-07-26T17:58:01.613997Z",
     "iopub.status.idle": "2022-07-26T17:58:01.835595Z",
     "shell.execute_reply": "2022-07-26T17:58:01.835981Z",
     "shell.execute_reply.started": "2022-07-26T17:33:39.689777Z"
    },
    "papermill": {
     "duration": 0.299764,
     "end_time": "2022-07-26T17:58:01.836132",
     "exception": false,
     "start_time": "2022-07-26T17:58:01.536368",
     "status": "completed"
    },
    "tags": []
   },
   "outputs": [
    {
     "data": {
      "text/plain": [
       "<AxesSubplot:xlabel='Cluster_Labels', ylabel='Amount'>"
      ]
     },
     "execution_count": 42,
     "metadata": {},
     "output_type": "execute_result"
    },
    {
     "data": {
      "image/png": "[encoded data removed]",
      "text/plain": [
       "<Figure size 1000x800 with 1 Axes>"
      ]
     },
     "metadata": {},
     "output_type": "display_data"
    }
   ],
   "source": [
    "# Plot Cluster Id vs Amount\n",
    "\n",
    "sns.boxplot(x='Cluster_Labels', y='Amount', data=rfm)"
   ]
  },
  {
   "cell_type": "code",
   "execution_count": 43,
   "id": "3aaccd1d",
   "metadata": {
    "execution": {
     "iopub.execute_input": "2022-07-26T17:58:01.988485Z",
     "iopub.status.busy": "2022-07-26T17:58:01.987508Z",
     "iopub.status.idle": "2022-07-26T17:58:02.211981Z",
     "shell.execute_reply": "2022-07-26T17:58:02.212437Z",
     "shell.execute_reply.started": "2022-07-26T17:33:39.959140Z"
    },
    "papermill": {
     "duration": 0.304141,
     "end_time": "2022-07-26T17:58:02.212595",
     "exception": false,
     "start_time": "2022-07-26T17:58:01.908454",
     "status": "completed"
    },
    "tags": []
   },
   "outputs": [
    {
     "data": {
      "text/plain": [
       "<AxesSubplot:xlabel='Cluster_Labels', ylabel='Frequency'>"
      ]
     },
     "execution_count": 43,
     "metadata": {},
     "output_type": "execute_result"
    },
    {
     "data": {
      "image/png": "[encoded data removed]",
      "text/plain": [
       "<Figure size 1000x800 with 1 Axes>"
      ]
     },
     "metadata": {},
     "output_type": "display_data"
    }
   ],
   "source": [
    "# Plot Cluster Id vs Frequency\n",
    "\n",
    "sns.boxplot(x='Cluster_Labels', y='Frequency', data=rfm)"
   ]
  },
  {
   "cell_type": "code",
   "execution_count": 44,
   "id": "4eb8788b",
   "metadata": {
    "execution": {
     "iopub.execute_input": "2022-07-26T17:58:02.367558Z",
     "iopub.status.busy": "2022-07-26T17:58:02.366686Z",
     "iopub.status.idle": "2022-07-26T17:58:02.596196Z",
     "shell.execute_reply": "2022-07-26T17:58:02.595670Z",
     "shell.execute_reply.started": "2022-07-26T17:33:40.220031Z"
    },
    "papermill": {
     "duration": 0.310281,
     "end_time": "2022-07-26T17:58:02.596351",
     "exception": false,
     "start_time": "2022-07-26T17:58:02.286070",
     "status": "completed"
    },
    "tags": []
   },
   "outputs": [
    {
     "data": {
      "text/plain": [
       "<AxesSubplot:xlabel='Cluster_Labels', ylabel='Recency'>"
      ]
     },
     "execution_count": 44,
     "metadata": {},
     "output_type": "execute_result"
    },
    {
     "data": {
      "image/png": "[encoded data removed]",
      "text/plain": [
       "<Figure size 1000x800 with 1 Axes>"
      ]
     },
     "metadata": {},
     "output_type": "display_data"
    }
   ],
   "source": [
    "# Plot Cluster Id vs Recency\n",
    "\n",
    "sns.boxplot(x='Cluster_Labels', y='Recency', data=rfm)"
   ]
  },
  {
   "cell_type": "markdown",
   "id": "fb6374f6",
   "metadata": {
    "papermill": {
     "duration": 0.074878,
     "end_time": "2022-07-26T17:58:02.747497",
     "exception": false,
     "start_time": "2022-07-26T17:58:02.672619",
     "status": "completed"
    },
    "tags": []
   },
   "source": [
    "# 9. Results (Hierarchical Clustering)"
   ]
  },
  {
   "cell_type": "markdown",
   "id": "1ae60bdd",
   "metadata": {
    "papermill": {
     "duration": 0.078395,
     "end_time": "2022-07-26T17:58:02.902507",
     "exception": false,
     "start_time": "2022-07-26T17:58:02.824112",
     "status": "completed"
    },
    "tags": []
   },
   "source": [
    "Analysis of Results (Hierarchical Clustering):\n",
    " \n",
    "1. Customers with cluster_labels 1 are contributed highest amount where as the least \n",
    "   are with cluster_labels 0.\n",
    "2. Customers with cluster_label 2 are not recent buyers.\n",
    "3. Customer with cluster_labels 2 are frequent buyers and followed by customers with \n",
    "   cluster_lables 1."
   ]
  }
 ],
 "metadata": {
  "kernelspec": {
   "display_name": "Python 3 (ipykernel)",
   "language": "python",
   "name": "python3"
  },
  "language_info": {
   "codemirror_mode": {
    "name": "ipython",
    "version": 3
   },
   "file_extension": ".py",
   "mimetype": "text/x-python",
   "name": "python",
   "nbconvert_exporter": "python",
   "pygments_lexer": "ipython3",
   "version": "3.9.13"
  },
  "papermill": {
   "default_parameters": {},
   "duration": 293.808538,
   "end_time": "2022-07-26T17:58:04.043707",
   "environment_variables": {},
   "exception": null,
   "input_path": "__notebook__.ipynb",
   "output_path": "__notebook__.ipynb",
   "parameters": {},
   "start_time": "2022-07-26T17:53:10.235169",
   "version": "2.3.3"
  }
 },
 "nbformat": 4,
 "nbformat_minor": 5
}
